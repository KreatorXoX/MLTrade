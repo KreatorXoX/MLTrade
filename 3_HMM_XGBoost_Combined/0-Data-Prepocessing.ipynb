{
 "cells": [
  {
   "cell_type": "markdown",
   "metadata": {},
   "source": [
    "### Imports"
   ]
  },
  {
   "cell_type": "code",
   "execution_count": 2,
   "metadata": {},
   "outputs": [],
   "source": [
    "import pandas as pd\n",
    "import numpy as np\n",
    "\n",
    "import yfinance as yf\n",
    "from ta.momentum import rsi\n",
    "\n",
    "from pyhhmm.gaussian import GaussianHMM\n",
    "\n",
    "from sklearn.preprocessing import MinMaxScaler\n",
    "\n",
    "import matplotlib.pyplot as plt"
   ]
  },
  {
   "cell_type": "code",
   "execution_count": 14,
   "metadata": {},
   "outputs": [
    {
     "name": "stdout",
     "output_type": "stream",
     "text": [
      "[*********************100%%**********************]  1 of 1 completed\n",
      "[*********************100%%**********************]  1 of 1 completed\n"
     ]
    }
   ],
   "source": [
    "# Get the data for the BTC-USD and DXY\n",
    "ticker1 ='BTC-USD'\n",
    "ticker2 = 'DX-Y.NYB'\n",
    "\n",
    "df = yf.download(ticker1)\n",
    "df_dxy= yf.download(ticker2)"
   ]
  },
  {
   "cell_type": "markdown",
   "metadata": {},
   "source": [
    "### Feature Engineering"
   ]
  },
  {
   "cell_type": "code",
   "execution_count": 15,
   "metadata": {},
   "outputs": [],
   "source": [
    "# Add DXY Close to BTC dataframe\n",
    "df_dxy=df_dxy.loc[df_dxy.index >= '2014-09-17',\"Close\"]\n",
    "df['DXY']=df_dxy\n",
    "df.ffill(inplace=True)\n",
    "df_close=df['Close']\n",
    "\n"
   ]
  },
  {
   "cell_type": "code",
   "execution_count": 16,
   "metadata": {},
   "outputs": [
    {
     "data": {
      "text/html": [
       "<div>\n",
       "<style scoped>\n",
       "    .dataframe tbody tr th:only-of-type {\n",
       "        vertical-align: middle;\n",
       "    }\n",
       "\n",
       "    .dataframe tbody tr th {\n",
       "        vertical-align: top;\n",
       "    }\n",
       "\n",
       "    .dataframe thead th {\n",
       "        text-align: right;\n",
       "    }\n",
       "</style>\n",
       "<table border=\"1\" class=\"dataframe\">\n",
       "  <thead>\n",
       "    <tr style=\"text-align: right;\">\n",
       "      <th></th>\n",
       "      <th>Open</th>\n",
       "      <th>High</th>\n",
       "      <th>Low</th>\n",
       "      <th>Close</th>\n",
       "      <th>Adj Close</th>\n",
       "      <th>Volume</th>\n",
       "      <th>DXY</th>\n",
       "    </tr>\n",
       "    <tr>\n",
       "      <th>Date</th>\n",
       "      <th></th>\n",
       "      <th></th>\n",
       "      <th></th>\n",
       "      <th></th>\n",
       "      <th></th>\n",
       "      <th></th>\n",
       "      <th></th>\n",
       "    </tr>\n",
       "  </thead>\n",
       "  <tbody>\n",
       "    <tr>\n",
       "      <th>2014-09-17</th>\n",
       "      <td>465.864014</td>\n",
       "      <td>468.174011</td>\n",
       "      <td>452.421997</td>\n",
       "      <td>457.334015</td>\n",
       "      <td>457.334015</td>\n",
       "      <td>21056800</td>\n",
       "      <td>84.699997</td>\n",
       "    </tr>\n",
       "    <tr>\n",
       "      <th>2014-09-18</th>\n",
       "      <td>456.859985</td>\n",
       "      <td>456.859985</td>\n",
       "      <td>413.104004</td>\n",
       "      <td>424.440002</td>\n",
       "      <td>424.440002</td>\n",
       "      <td>34483200</td>\n",
       "      <td>84.320000</td>\n",
       "    </tr>\n",
       "  </tbody>\n",
       "</table>\n",
       "</div>"
      ],
      "text/plain": [
       "                  Open        High         Low       Close   Adj Close  \\\n",
       "Date                                                                     \n",
       "2014-09-17  465.864014  468.174011  452.421997  457.334015  457.334015   \n",
       "2014-09-18  456.859985  456.859985  413.104004  424.440002  424.440002   \n",
       "\n",
       "              Volume        DXY  \n",
       "Date                             \n",
       "2014-09-17  21056800  84.699997  \n",
       "2014-09-18  34483200  84.320000  "
      ]
     },
     "execution_count": 16,
     "metadata": {},
     "output_type": "execute_result"
    }
   ],
   "source": [
    "# Check the head of the data\n",
    "df.head(2)"
   ]
  },
  {
   "cell_type": "code",
   "execution_count": 17,
   "metadata": {},
   "outputs": [],
   "source": [
    "# Add Returns and range to the dataframe\n",
    "df['lrets'] = np.log(df['Close']/df['Close'].shift(1))\n",
    "df['lrets_prod'] = df['lrets'].cumsum().apply(np.exp)-1\n",
    "df['range'] = df['High']/df['Low'] -1\n",
    "\n",
    "for i in range(1,8):\n",
    "  df[f'lrets_T{i}'] = df['lrets'].shift(1)\n",
    "\n",
    "df.dropna(inplace=True)"
   ]
  },
  {
   "cell_type": "code",
   "execution_count": 20,
   "metadata": {},
   "outputs": [],
   "source": [
    "# Scaling the volume and dxy\n",
    "scaler = MinMaxScaler()\n",
    "df['Volume'] = scaler.fit_transform(df['Volume'].values.reshape(-1,1))\n",
    "df['DXY'] = scaler.fit_transform(df['DXY'].values.reshape(-1,1))\n"
   ]
  },
  {
   "cell_type": "code",
   "execution_count": 21,
   "metadata": {},
   "outputs": [
    {
     "data": {
      "text/html": [
       "<div>\n",
       "<style scoped>\n",
       "    .dataframe tbody tr th:only-of-type {\n",
       "        vertical-align: middle;\n",
       "    }\n",
       "\n",
       "    .dataframe tbody tr th {\n",
       "        vertical-align: top;\n",
       "    }\n",
       "\n",
       "    .dataframe thead th {\n",
       "        text-align: right;\n",
       "    }\n",
       "</style>\n",
       "<table border=\"1\" class=\"dataframe\">\n",
       "  <thead>\n",
       "    <tr style=\"text-align: right;\">\n",
       "      <th></th>\n",
       "      <th>Open</th>\n",
       "      <th>High</th>\n",
       "      <th>Low</th>\n",
       "      <th>Close</th>\n",
       "      <th>Adj Close</th>\n",
       "      <th>Volume</th>\n",
       "      <th>DXY</th>\n",
       "      <th>lrets</th>\n",
       "      <th>lrets_prod</th>\n",
       "      <th>range</th>\n",
       "      <th>lrets_T1</th>\n",
       "      <th>lrets_T2</th>\n",
       "      <th>lrets_T3</th>\n",
       "      <th>lrets_T4</th>\n",
       "      <th>lrets_T5</th>\n",
       "      <th>lrets_T6</th>\n",
       "      <th>lrets_T7</th>\n",
       "    </tr>\n",
       "    <tr>\n",
       "      <th>Date</th>\n",
       "      <th></th>\n",
       "      <th></th>\n",
       "      <th></th>\n",
       "      <th></th>\n",
       "      <th></th>\n",
       "      <th></th>\n",
       "      <th></th>\n",
       "      <th></th>\n",
       "      <th></th>\n",
       "      <th></th>\n",
       "      <th></th>\n",
       "      <th></th>\n",
       "      <th></th>\n",
       "      <th></th>\n",
       "      <th></th>\n",
       "      <th></th>\n",
       "      <th></th>\n",
       "    </tr>\n",
       "  </thead>\n",
       "  <tbody>\n",
       "    <tr>\n",
       "      <th>2024-02-05</th>\n",
       "      <td>42577.621094</td>\n",
       "      <td>43494.250000</td>\n",
       "      <td>42264.816406</td>\n",
       "      <td>42658.667969</td>\n",
       "      <td>42658.667969</td>\n",
       "      <td>0.053309</td>\n",
       "      <td>0.671986</td>\n",
       "      <td>0.001762</td>\n",
       "      <td>92.276832</td>\n",
       "      <td>0.029089</td>\n",
       "      <td>-0.009551</td>\n",
       "      <td>-0.009551</td>\n",
       "      <td>-0.009551</td>\n",
       "      <td>-0.009551</td>\n",
       "      <td>-0.009551</td>\n",
       "      <td>-0.009551</td>\n",
       "      <td>-0.009551</td>\n",
       "    </tr>\n",
       "    <tr>\n",
       "      <th>2024-02-06</th>\n",
       "      <td>42657.390625</td>\n",
       "      <td>43344.148438</td>\n",
       "      <td>42529.019531</td>\n",
       "      <td>43084.671875</td>\n",
       "      <td>43084.671875</td>\n",
       "      <td>0.047847</td>\n",
       "      <td>0.662818</td>\n",
       "      <td>0.009937</td>\n",
       "      <td>93.208326</td>\n",
       "      <td>0.019166</td>\n",
       "      <td>0.001762</td>\n",
       "      <td>0.001762</td>\n",
       "      <td>0.001762</td>\n",
       "      <td>0.001762</td>\n",
       "      <td>0.001762</td>\n",
       "      <td>0.001762</td>\n",
       "      <td>0.001762</td>\n",
       "    </tr>\n",
       "    <tr>\n",
       "      <th>2024-02-07</th>\n",
       "      <td>43090.019531</td>\n",
       "      <td>43654.441406</td>\n",
       "      <td>42781.453125</td>\n",
       "      <td>43532.953125</td>\n",
       "      <td>43532.953125</td>\n",
       "      <td>0.048779</td>\n",
       "      <td>0.658981</td>\n",
       "      <td>0.010351</td>\n",
       "      <td>94.188531</td>\n",
       "      <td>0.020406</td>\n",
       "      <td>0.009937</td>\n",
       "      <td>0.009937</td>\n",
       "      <td>0.009937</td>\n",
       "      <td>0.009937</td>\n",
       "      <td>0.009937</td>\n",
       "      <td>0.009937</td>\n",
       "      <td>0.009937</td>\n",
       "    </tr>\n",
       "  </tbody>\n",
       "</table>\n",
       "</div>"
      ],
      "text/plain": [
       "                    Open          High           Low         Close  \\\n",
       "Date                                                                 \n",
       "2024-02-05  42577.621094  43494.250000  42264.816406  42658.667969   \n",
       "2024-02-06  42657.390625  43344.148438  42529.019531  43084.671875   \n",
       "2024-02-07  43090.019531  43654.441406  42781.453125  43532.953125   \n",
       "\n",
       "               Adj Close    Volume       DXY     lrets  lrets_prod     range  \\\n",
       "Date                                                                           \n",
       "2024-02-05  42658.667969  0.053309  0.671986  0.001762   92.276832  0.029089   \n",
       "2024-02-06  43084.671875  0.047847  0.662818  0.009937   93.208326  0.019166   \n",
       "2024-02-07  43532.953125  0.048779  0.658981  0.010351   94.188531  0.020406   \n",
       "\n",
       "            lrets_T1  lrets_T2  lrets_T3  lrets_T4  lrets_T5  lrets_T6  \\\n",
       "Date                                                                     \n",
       "2024-02-05 -0.009551 -0.009551 -0.009551 -0.009551 -0.009551 -0.009551   \n",
       "2024-02-06  0.001762  0.001762  0.001762  0.001762  0.001762  0.001762   \n",
       "2024-02-07  0.009937  0.009937  0.009937  0.009937  0.009937  0.009937   \n",
       "\n",
       "            lrets_T7  \n",
       "Date                  \n",
       "2024-02-05 -0.009551  \n",
       "2024-02-06  0.001762  \n",
       "2024-02-07  0.009937  "
      ]
     },
     "execution_count": 21,
     "metadata": {},
     "output_type": "execute_result"
    }
   ],
   "source": [
    "# Check the head of the data\n",
    "df.tail(3)\n"
   ]
  },
  {
   "cell_type": "code",
   "execution_count": null,
   "metadata": {},
   "outputs": [],
   "source": [
    "# Save the data\n",
    "df.to_csv('data/btc_with_features.csv')"
   ]
  }
 ],
 "metadata": {
  "kernelspec": {
   "display_name": "MLTRADE",
   "language": "python",
   "name": "python3"
  },
  "language_info": {
   "codemirror_mode": {
    "name": "ipython",
    "version": 3
   },
   "file_extension": ".py",
   "mimetype": "text/x-python",
   "name": "python",
   "nbconvert_exporter": "python",
   "pygments_lexer": "ipython3",
   "version": "3.9.18"
  }
 },
 "nbformat": 4,
 "nbformat_minor": 2
}
