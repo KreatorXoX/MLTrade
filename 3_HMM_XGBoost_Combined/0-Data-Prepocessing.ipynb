{
 "cells": [
  {
   "cell_type": "markdown",
   "metadata": {},
   "source": [
    "### Imports"
   ]
  },
  {
   "cell_type": "code",
   "execution_count": 279,
   "metadata": {},
   "outputs": [],
   "source": [
    "import pandas as pd\n",
    "import numpy as np\n",
    "\n",
    "import yfinance as yf\n",
    "from ta.momentum import rsi\n",
    "\n",
    "from pyhhmm.gaussian import GaussianHMM\n",
    "\n",
    "from sklearn.preprocessing import MinMaxScaler\n",
    "\n",
    "import matplotlib.pyplot as plt"
   ]
  },
  {
   "cell_type": "code",
   "execution_count": 298,
   "metadata": {},
   "outputs": [
    {
     "name": "stdout",
     "output_type": "stream",
     "text": [
      "[*********************100%%**********************]  1 of 1 completed\n",
      "[*********************100%%**********************]  1 of 1 completed\n"
     ]
    }
   ],
   "source": [
    "# Get the data for the BTC-USD and DXY\n",
    "ticker1 ='BTC-USD'\n",
    "ticker2 = 'DX-Y.NYB'\n",
    "\n",
    "df = yf.download(ticker1)\n",
    "df_dxy= yf.download(ticker2)"
   ]
  },
  {
   "cell_type": "markdown",
   "metadata": {},
   "source": [
    "### Feature Engineering"
   ]
  },
  {
   "cell_type": "code",
   "execution_count": 299,
   "metadata": {},
   "outputs": [],
   "source": [
    "# Add DXY Close to BTC dataframe\n",
    "df_dxy=df_dxy.loc[df_dxy.index >= '2014-09-17',\"Close\"]\n",
    "df['DXY']=df_dxy\n",
    "df.ffill(inplace=True)\n",
    "df_close=df['Close']\n",
    "\n"
   ]
  },
  {
   "cell_type": "code",
   "execution_count": 300,
   "metadata": {},
   "outputs": [
    {
     "data": {
      "text/html": [
       "<div>\n",
       "<style scoped>\n",
       "    .dataframe tbody tr th:only-of-type {\n",
       "        vertical-align: middle;\n",
       "    }\n",
       "\n",
       "    .dataframe tbody tr th {\n",
       "        vertical-align: top;\n",
       "    }\n",
       "\n",
       "    .dataframe thead th {\n",
       "        text-align: right;\n",
       "    }\n",
       "</style>\n",
       "<table border=\"1\" class=\"dataframe\">\n",
       "  <thead>\n",
       "    <tr style=\"text-align: right;\">\n",
       "      <th></th>\n",
       "      <th>Open</th>\n",
       "      <th>High</th>\n",
       "      <th>Low</th>\n",
       "      <th>Close</th>\n",
       "      <th>Adj Close</th>\n",
       "      <th>Volume</th>\n",
       "      <th>DXY</th>\n",
       "    </tr>\n",
       "    <tr>\n",
       "      <th>Date</th>\n",
       "      <th></th>\n",
       "      <th></th>\n",
       "      <th></th>\n",
       "      <th></th>\n",
       "      <th></th>\n",
       "      <th></th>\n",
       "      <th></th>\n",
       "    </tr>\n",
       "  </thead>\n",
       "  <tbody>\n",
       "    <tr>\n",
       "      <th>2014-09-17</th>\n",
       "      <td>465.864014</td>\n",
       "      <td>468.174011</td>\n",
       "      <td>452.421997</td>\n",
       "      <td>457.334015</td>\n",
       "      <td>457.334015</td>\n",
       "      <td>21056800</td>\n",
       "      <td>84.699997</td>\n",
       "    </tr>\n",
       "    <tr>\n",
       "      <th>2014-09-18</th>\n",
       "      <td>456.859985</td>\n",
       "      <td>456.859985</td>\n",
       "      <td>413.104004</td>\n",
       "      <td>424.440002</td>\n",
       "      <td>424.440002</td>\n",
       "      <td>34483200</td>\n",
       "      <td>84.320000</td>\n",
       "    </tr>\n",
       "  </tbody>\n",
       "</table>\n",
       "</div>"
      ],
      "text/plain": [
       "                  Open        High         Low       Close   Adj Close  \\\n",
       "Date                                                                     \n",
       "2014-09-17  465.864014  468.174011  452.421997  457.334015  457.334015   \n",
       "2014-09-18  456.859985  456.859985  413.104004  424.440002  424.440002   \n",
       "\n",
       "              Volume        DXY  \n",
       "Date                             \n",
       "2014-09-17  21056800  84.699997  \n",
       "2014-09-18  34483200  84.320000  "
      ]
     },
     "execution_count": 300,
     "metadata": {},
     "output_type": "execute_result"
    }
   ],
   "source": [
    "# Check the head of the data\n",
    "df.head(2)"
   ]
  },
  {
   "cell_type": "code",
   "execution_count": 305,
   "metadata": {},
   "outputs": [],
   "source": [
    "# Add Returns and range to the dataframe\n",
    "df['lrets'] = np.log(df['Close']/df['Close'].shift(1))\n",
    "df['lrets_prod'] = df['lrets'].cumsum().apply(np.exp)-1\n",
    "df['range'] = df['High']/df['Low'] -1\n"
   ]
  },
  {
   "cell_type": "code",
   "execution_count": 307,
   "metadata": {},
   "outputs": [
    {
     "data": {
      "text/html": [
       "<div>\n",
       "<style scoped>\n",
       "    .dataframe tbody tr th:only-of-type {\n",
       "        vertical-align: middle;\n",
       "    }\n",
       "\n",
       "    .dataframe tbody tr th {\n",
       "        vertical-align: top;\n",
       "    }\n",
       "\n",
       "    .dataframe thead th {\n",
       "        text-align: right;\n",
       "    }\n",
       "</style>\n",
       "<table border=\"1\" class=\"dataframe\">\n",
       "  <thead>\n",
       "    <tr style=\"text-align: right;\">\n",
       "      <th></th>\n",
       "      <th>Open</th>\n",
       "      <th>High</th>\n",
       "      <th>Low</th>\n",
       "      <th>Close</th>\n",
       "      <th>Adj Close</th>\n",
       "      <th>Volume</th>\n",
       "      <th>DXY</th>\n",
       "      <th>lrets</th>\n",
       "      <th>lrets_prod</th>\n",
       "      <th>range</th>\n",
       "    </tr>\n",
       "    <tr>\n",
       "      <th>Date</th>\n",
       "      <th></th>\n",
       "      <th></th>\n",
       "      <th></th>\n",
       "      <th></th>\n",
       "      <th></th>\n",
       "      <th></th>\n",
       "      <th></th>\n",
       "      <th></th>\n",
       "      <th></th>\n",
       "      <th></th>\n",
       "    </tr>\n",
       "  </thead>\n",
       "  <tbody>\n",
       "    <tr>\n",
       "      <th>2024-01-27</th>\n",
       "      <td>41815.625000</td>\n",
       "      <td>42195.632812</td>\n",
       "      <td>41431.281250</td>\n",
       "      <td>42120.054688</td>\n",
       "      <td>42120.054688</td>\n",
       "      <td>11422941934</td>\n",
       "      <td>103.470001</td>\n",
       "      <td>0.007224</td>\n",
       "      <td>91.099108</td>\n",
       "      <td>0.018449</td>\n",
       "    </tr>\n",
       "    <tr>\n",
       "      <th>2024-01-28</th>\n",
       "      <td>42126.125000</td>\n",
       "      <td>42797.175781</td>\n",
       "      <td>41696.910156</td>\n",
       "      <td>42035.593750</td>\n",
       "      <td>42035.593750</td>\n",
       "      <td>16858971687</td>\n",
       "      <td>103.470001</td>\n",
       "      <td>-0.002007</td>\n",
       "      <td>90.914427</td>\n",
       "      <td>0.026387</td>\n",
       "    </tr>\n",
       "    <tr>\n",
       "      <th>2024-01-29</th>\n",
       "      <td>42030.914062</td>\n",
       "      <td>43228.625000</td>\n",
       "      <td>41841.148438</td>\n",
       "      <td>43146.390625</td>\n",
       "      <td>43146.390625</td>\n",
       "      <td>20599599104</td>\n",
       "      <td>103.471001</td>\n",
       "      <td>0.026082</td>\n",
       "      <td>93.343279</td>\n",
       "      <td>0.033161</td>\n",
       "    </tr>\n",
       "  </tbody>\n",
       "</table>\n",
       "</div>"
      ],
      "text/plain": [
       "                    Open          High           Low         Close  \\\n",
       "Date                                                                 \n",
       "2024-01-27  41815.625000  42195.632812  41431.281250  42120.054688   \n",
       "2024-01-28  42126.125000  42797.175781  41696.910156  42035.593750   \n",
       "2024-01-29  42030.914062  43228.625000  41841.148438  43146.390625   \n",
       "\n",
       "               Adj Close       Volume         DXY     lrets  lrets_prod  \\\n",
       "Date                                                                      \n",
       "2024-01-27  42120.054688  11422941934  103.470001  0.007224   91.099108   \n",
       "2024-01-28  42035.593750  16858971687  103.470001 -0.002007   90.914427   \n",
       "2024-01-29  43146.390625  20599599104  103.471001  0.026082   93.343279   \n",
       "\n",
       "               range  \n",
       "Date                  \n",
       "2024-01-27  0.018449  \n",
       "2024-01-28  0.026387  \n",
       "2024-01-29  0.033161  "
      ]
     },
     "execution_count": 307,
     "metadata": {},
     "output_type": "execute_result"
    }
   ],
   "source": [
    "# Check the head of the data\n",
    "df.head(3)\n"
   ]
  }
 ],
 "metadata": {
  "kernelspec": {
   "display_name": "MLTRADE",
   "language": "python",
   "name": "python3"
  },
  "language_info": {
   "codemirror_mode": {
    "name": "ipython",
    "version": 3
   },
   "file_extension": ".py",
   "mimetype": "text/x-python",
   "name": "python",
   "nbconvert_exporter": "python",
   "pygments_lexer": "ipython3",
   "version": "3.9.18"
  }
 },
 "nbformat": 4,
 "nbformat_minor": 2
}
