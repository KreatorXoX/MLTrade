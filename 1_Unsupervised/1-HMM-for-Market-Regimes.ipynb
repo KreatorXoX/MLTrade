{
 "cells": [
  {
   "cell_type": "markdown",
   "metadata": {},
   "source": [
    "### Imports"
   ]
  },
  {
   "cell_type": "code",
   "execution_count": 51,
   "metadata": {},
   "outputs": [],
   "source": [
    "import pandas as pd\n",
    "import numpy as np\n",
    "\n",
    "from pyhhmm.gaussian import GaussianHMM\n",
    "from pandas_datareader.data import DataReader\n",
    "\n",
    "import yfinance as yf\n",
    "yf.pdr_override()\n",
    "\n",
    "import matplotlib.pyplot as plt"
   ]
  },
  {
   "cell_type": "code",
   "execution_count": 52,
   "metadata": {},
   "outputs": [
    {
     "name": "stdout",
     "output_type": "stream",
     "text": [
      "[*********************100%%**********************]  1 of 1 completed\n"
     ]
    }
   ],
   "source": [
    "# Data Extraction\n",
    "\n",
    "start_date = '2017-01-01'\n",
    "end_date = '2024-01-08'\n",
    "symbol = 'BTC-usd'\n",
    "data = DataReader(symbol, start_date, end_date) "
   ]
  },
  {
   "cell_type": "code",
   "execution_count": 53,
   "metadata": {},
   "outputs": [
    {
     "data": {
      "text/html": [
       "<div>\n",
       "<style scoped>\n",
       "    .dataframe tbody tr th:only-of-type {\n",
       "        vertical-align: middle;\n",
       "    }\n",
       "\n",
       "    .dataframe tbody tr th {\n",
       "        vertical-align: top;\n",
       "    }\n",
       "\n",
       "    .dataframe thead th {\n",
       "        text-align: right;\n",
       "    }\n",
       "</style>\n",
       "<table border=\"1\" class=\"dataframe\">\n",
       "  <thead>\n",
       "    <tr style=\"text-align: right;\">\n",
       "      <th></th>\n",
       "      <th>Open</th>\n",
       "      <th>High</th>\n",
       "      <th>Low</th>\n",
       "      <th>Adj Close</th>\n",
       "      <th>Volume</th>\n",
       "      <th>returns</th>\n",
       "      <th>range</th>\n",
       "    </tr>\n",
       "    <tr>\n",
       "      <th>Date</th>\n",
       "      <th></th>\n",
       "      <th></th>\n",
       "      <th></th>\n",
       "      <th></th>\n",
       "      <th></th>\n",
       "      <th></th>\n",
       "      <th></th>\n",
       "    </tr>\n",
       "  </thead>\n",
       "  <tbody>\n",
       "    <tr>\n",
       "      <th>2017-01-02</th>\n",
       "      <td>998.617004</td>\n",
       "      <td>1031.390015</td>\n",
       "      <td>996.702026</td>\n",
       "      <td>1021.750000</td>\n",
       "      <td>222184992</td>\n",
       "      <td>0.023464</td>\n",
       "      <td>0.034803</td>\n",
       "    </tr>\n",
       "    <tr>\n",
       "      <th>2017-01-03</th>\n",
       "      <td>1021.599976</td>\n",
       "      <td>1044.079956</td>\n",
       "      <td>1021.599976</td>\n",
       "      <td>1043.839966</td>\n",
       "      <td>185168000</td>\n",
       "      <td>0.021620</td>\n",
       "      <td>0.022005</td>\n",
       "    </tr>\n",
       "    <tr>\n",
       "      <th>2017-01-04</th>\n",
       "      <td>1044.400024</td>\n",
       "      <td>1159.420044</td>\n",
       "      <td>1044.400024</td>\n",
       "      <td>1154.729980</td>\n",
       "      <td>344945984</td>\n",
       "      <td>0.106233</td>\n",
       "      <td>0.110130</td>\n",
       "    </tr>\n",
       "    <tr>\n",
       "      <th>2017-01-05</th>\n",
       "      <td>1156.729980</td>\n",
       "      <td>1191.099976</td>\n",
       "      <td>910.416992</td>\n",
       "      <td>1013.380005</td>\n",
       "      <td>510199008</td>\n",
       "      <td>-0.122410</td>\n",
       "      <td>0.308302</td>\n",
       "    </tr>\n",
       "    <tr>\n",
       "      <th>2017-01-06</th>\n",
       "      <td>1014.239990</td>\n",
       "      <td>1046.810059</td>\n",
       "      <td>883.943970</td>\n",
       "      <td>902.200989</td>\n",
       "      <td>351876000</td>\n",
       "      <td>-0.109711</td>\n",
       "      <td>0.184249</td>\n",
       "    </tr>\n",
       "  </tbody>\n",
       "</table>\n",
       "</div>"
      ],
      "text/plain": [
       "                   Open         High          Low    Adj Close     Volume  \\\n",
       "Date                                                                        \n",
       "2017-01-02   998.617004  1031.390015   996.702026  1021.750000  222184992   \n",
       "2017-01-03  1021.599976  1044.079956  1021.599976  1043.839966  185168000   \n",
       "2017-01-04  1044.400024  1159.420044  1044.400024  1154.729980  344945984   \n",
       "2017-01-05  1156.729980  1191.099976   910.416992  1013.380005  510199008   \n",
       "2017-01-06  1014.239990  1046.810059   883.943970   902.200989  351876000   \n",
       "\n",
       "             returns     range  \n",
       "Date                            \n",
       "2017-01-02  0.023464  0.034803  \n",
       "2017-01-03  0.021620  0.022005  \n",
       "2017-01-04  0.106233  0.110130  \n",
       "2017-01-05 -0.122410  0.308302  \n",
       "2017-01-06 -0.109711  0.184249  "
      ]
     },
     "execution_count": 53,
     "metadata": {},
     "output_type": "execute_result"
    }
   ],
   "source": [
    "# Manage Data and Add Features\n",
    "\n",
    "data.drop(columns=['Close'], inplace=True)\n",
    "df = data.copy()\n",
    "df['returns'] = df['Adj Close']/df['Adj Close'].shift(1) - 1  \n",
    "df['range'] = df['High']/df['Low'] -1\n",
    "\n",
    "df.dropna(inplace=True)\n",
    "\n",
    "df.head()"
   ]
  },
  {
   "cell_type": "code",
   "execution_count": 54,
   "metadata": {},
   "outputs": [
    {
     "data": {
      "text/html": [
       "<div>\n",
       "<style scoped>\n",
       "    .dataframe tbody tr th:only-of-type {\n",
       "        vertical-align: middle;\n",
       "    }\n",
       "\n",
       "    .dataframe tbody tr th {\n",
       "        vertical-align: top;\n",
       "    }\n",
       "\n",
       "    .dataframe thead th {\n",
       "        text-align: right;\n",
       "    }\n",
       "</style>\n",
       "<table border=\"1\" class=\"dataframe\">\n",
       "  <thead>\n",
       "    <tr style=\"text-align: right;\">\n",
       "      <th></th>\n",
       "      <th>returns</th>\n",
       "      <th>range</th>\n",
       "    </tr>\n",
       "    <tr>\n",
       "      <th>Date</th>\n",
       "      <th></th>\n",
       "      <th></th>\n",
       "    </tr>\n",
       "  </thead>\n",
       "  <tbody>\n",
       "    <tr>\n",
       "      <th>2017-01-02</th>\n",
       "      <td>0.023464</td>\n",
       "      <td>0.034803</td>\n",
       "    </tr>\n",
       "    <tr>\n",
       "      <th>2017-01-03</th>\n",
       "      <td>0.021620</td>\n",
       "      <td>0.022005</td>\n",
       "    </tr>\n",
       "    <tr>\n",
       "      <th>2017-01-04</th>\n",
       "      <td>0.106233</td>\n",
       "      <td>0.110130</td>\n",
       "    </tr>\n",
       "    <tr>\n",
       "      <th>2017-01-05</th>\n",
       "      <td>-0.122410</td>\n",
       "      <td>0.308302</td>\n",
       "    </tr>\n",
       "    <tr>\n",
       "      <th>2017-01-06</th>\n",
       "      <td>-0.109711</td>\n",
       "      <td>0.184249</td>\n",
       "    </tr>\n",
       "  </tbody>\n",
       "</table>\n",
       "</div>"
      ],
      "text/plain": [
       "             returns     range\n",
       "Date                          \n",
       "2017-01-02  0.023464  0.034803\n",
       "2017-01-03  0.021620  0.022005\n",
       "2017-01-04  0.106233  0.110130\n",
       "2017-01-05 -0.122410  0.308302\n",
       "2017-01-06 -0.109711  0.184249"
      ]
     },
     "execution_count": 54,
     "metadata": {},
     "output_type": "execute_result"
    }
   ],
   "source": [
    "# Structure Data for HMM\n",
    "\n",
    "X_train = df[['returns', 'range']]\n",
    "X_train.head()\n"
   ]
  },
  {
   "cell_type": "markdown",
   "metadata": {},
   "source": [
    "### HMM Learning"
   ]
  },
  {
   "cell_type": "code",
   "execution_count": 55,
   "metadata": {},
   "outputs": [
    {
     "data": {
      "text/plain": [
       "(<pyhhmm.gaussian.GaussianHMM at 0x1a4b30264c0>, 11729.191484493294)"
      ]
     },
     "execution_count": 55,
     "metadata": {},
     "output_type": "execute_result"
    }
   ],
   "source": [
    "# Fit HMM\n",
    "\n",
    "model = GaussianHMM(n_states=4, covariance_type=\"full\", n_emissions=2)\n",
    "model.train([np.array(X_train.values)])"
   ]
  },
  {
   "cell_type": "code",
   "execution_count": 56,
   "metadata": {},
   "outputs": [
    {
     "data": {
      "text/plain": [
       "array([1, 1, 2, 3, 3, 3, 0, 0, 2, 3, 3, 2, 1, 1, 1, 2, 0, 1, 1, 1, 1, 1,\n",
       "       0, 1, 1, 1, 1, 1, 1, 2])"
      ]
     },
     "execution_count": 56,
     "metadata": {},
     "output_type": "execute_result"
    }
   ],
   "source": [
    "# Check Results\n",
    "\n",
    "hidden_states = model.predict([X_train.values])[0]\n",
    "hidden_states[:30]"
   ]
  },
  {
   "cell_type": "code",
   "execution_count": 57,
   "metadata": {},
   "outputs": [
    {
     "data": {
      "text/plain": [
       "array([[-0.02537527,  0.05302698],\n",
       "       [ 0.00499908,  0.02689396],\n",
       "       [ 0.05087207,  0.07016167],\n",
       "       [-0.01975388,  0.12717183]])"
      ]
     },
     "execution_count": 57,
     "metadata": {},
     "output_type": "execute_result"
    }
   ],
   "source": [
    "# Regime state means for each feature\n",
    "model.means"
   ]
  },
  {
   "cell_type": "code",
   "execution_count": 58,
   "metadata": {},
   "outputs": [
    {
     "data": {
      "text/plain": [
       "array([[[ 5.36490781e-04, -3.44296610e-04],\n",
       "        [-3.44296610e-04,  5.23302871e-04]],\n",
       "\n",
       "       [[ 2.01836600e-04,  8.49789287e-05],\n",
       "        [ 8.49789287e-05,  1.76430309e-04]],\n",
       "\n",
       "       [[ 1.30932308e-03,  1.22663594e-03],\n",
       "        [ 1.22663594e-03,  1.32887027e-03]],\n",
       "\n",
       "       [[ 4.70691873e-03, -1.82003869e-03],\n",
       "        [-1.82003869e-03,  4.86366184e-03]]])"
      ]
     },
     "execution_count": 58,
     "metadata": {},
     "output_type": "execute_result"
    }
   ],
   "source": [
    "# Regime state covars for each feature\n",
    "model.covars"
   ]
  },
  {
   "cell_type": "markdown",
   "metadata": {},
   "source": [
    "### Data Visualization"
   ]
  },
  {
   "cell_type": "code",
   "execution_count": 59,
   "metadata": {},
   "outputs": [
    {
     "name": "stdout",
     "output_type": "stream",
     "text": [
      "Correct number of rows  True\n"
     ]
    }
   ],
   "source": [
    "# Structure Prices for plotting\n",
    "\n",
    "prices = df['Adj Close'].values.astype(float)\n",
    "print('Correct number of rows ', len(prices)==len(hidden_states))\n",
    "\n",
    "i=0\n",
    "labels_0 = []\n",
    "labels_1 = []\n",
    "labels_2 = []\n",
    "labels_3 = []\n",
    "\n",
    "for state in hidden_states:\n",
    "    if state == 0:\n",
    "        labels_0.append(prices[i])\n",
    "        labels_1.append(np.nan)\n",
    "        labels_2.append(np.nan)\n",
    "        labels_3.append(np.nan)\n",
    "    elif state == 1:\n",
    "        labels_0.append(np.nan)\n",
    "        labels_1.append(prices[i])\n",
    "        labels_2.append(np.nan)\n",
    "        labels_3.append(np.nan)\n",
    "    elif state == 2:\n",
    "        labels_0.append(np.nan)\n",
    "        labels_1.append(np.nan)\n",
    "        labels_2.append(prices[i])\n",
    "        labels_3.append(np.nan)\n",
    "    else:\n",
    "        labels_0.append(np.nan)\n",
    "        labels_1.append(np.nan)\n",
    "        labels_2.append(np.nan)\n",
    "        labels_3.append(prices[i])\n",
    "    i+=1\n",
    "\n"
   ]
  },
  {
   "cell_type": "code",
   "execution_count": 62,
   "metadata": {},
   "outputs": [
    {
     "data": {
      "image/png": "[encoded data removed]",
      "text/plain": [
       "<Figure size 1400x800 with 1 Axes>"
      ]
     },
     "metadata": {},
     "output_type": "display_data"
    }
   ],
   "source": [
    "# Plot Results\n",
    "\n",
    "fig = plt.figure(figsize=(14,8))\n",
    "plt.plot(labels_0, color='red')\n",
    "plt.plot(labels_1, color='green')\n",
    "plt.plot(labels_2, color='orange')\n",
    "plt.plot(labels_3, color='black')\n",
    "plt.show()"
   ]
  }
 ],
 "metadata": {
  "kernelspec": {
   "display_name": "MLTRADE",
   "language": "python",
   "name": "python3"
  },
  "language_info": {
   "codemirror_mode": {
    "name": "ipython",
    "version": 3
   },
   "file_extension": ".py",
   "mimetype": "text/x-python",
   "name": "python",
   "nbconvert_exporter": "python",
   "pygments_lexer": "ipython3",
   "version": "3.9.18"
  }
 },
 "nbformat": 4,
 "nbformat_minor": 2
}
