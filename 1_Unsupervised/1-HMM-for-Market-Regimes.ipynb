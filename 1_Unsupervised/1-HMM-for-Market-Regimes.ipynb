{
 "cells": [
  {
   "cell_type": "markdown",
   "metadata": {},
   "source": [
    "### Imports"
   ]
  },
  {
   "cell_type": "code",
   "execution_count": 6,
   "metadata": {},
   "outputs": [],
   "source": [
    "import pandas as pd\n",
    "import numpy as np\n",
    "\n",
    "from pyhhmm.gaussian import GaussianHMM\n",
    "from pandas_datareader.data import DataReader\n",
    "\n",
    "import yfinance as yf\n",
    "yf.pdr_override()\n",
    "\n",
    "import matplotlib.pyplot as plt"
   ]
  },
  {
   "cell_type": "code",
   "execution_count": 7,
   "metadata": {},
   "outputs": [
    {
     "name": "stdout",
     "output_type": "stream",
     "text": [
      "[*********************100%%**********************]  1 of 1 completed\n"
     ]
    }
   ],
   "source": [
    "# Data Extraction\n",
    "\n",
    "start_date = '2017-01-01'\n",
    "end_date = '2024-01-14'\n",
    "symbol = 'BTC-USD'\n",
    "data = DataReader(symbol, start_date, end_date) "
   ]
  },
  {
   "cell_type": "code",
   "execution_count": 8,
   "metadata": {},
   "outputs": [
    {
     "data": {
      "text/html": [
       "<div>\n",
       "<style scoped>\n",
       "    .dataframe tbody tr th:only-of-type {\n",
       "        vertical-align: middle;\n",
       "    }\n",
       "\n",
       "    .dataframe tbody tr th {\n",
       "        vertical-align: top;\n",
       "    }\n",
       "\n",
       "    .dataframe thead th {\n",
       "        text-align: right;\n",
       "    }\n",
       "</style>\n",
       "<table border=\"1\" class=\"dataframe\">\n",
       "  <thead>\n",
       "    <tr style=\"text-align: right;\">\n",
       "      <th></th>\n",
       "      <th>Open</th>\n",
       "      <th>High</th>\n",
       "      <th>Low</th>\n",
       "      <th>Adj Close</th>\n",
       "      <th>Volume</th>\n",
       "      <th>returns</th>\n",
       "      <th>range</th>\n",
       "    </tr>\n",
       "    <tr>\n",
       "      <th>Date</th>\n",
       "      <th></th>\n",
       "      <th></th>\n",
       "      <th></th>\n",
       "      <th></th>\n",
       "      <th></th>\n",
       "      <th></th>\n",
       "      <th></th>\n",
       "    </tr>\n",
       "  </thead>\n",
       "  <tbody>\n",
       "    <tr>\n",
       "      <th>2017-01-02</th>\n",
       "      <td>998.617004</td>\n",
       "      <td>1031.390015</td>\n",
       "      <td>996.702026</td>\n",
       "      <td>1021.750000</td>\n",
       "      <td>222184992</td>\n",
       "      <td>0.023464</td>\n",
       "      <td>0.034803</td>\n",
       "    </tr>\n",
       "    <tr>\n",
       "      <th>2017-01-03</th>\n",
       "      <td>1021.599976</td>\n",
       "      <td>1044.079956</td>\n",
       "      <td>1021.599976</td>\n",
       "      <td>1043.839966</td>\n",
       "      <td>185168000</td>\n",
       "      <td>0.021620</td>\n",
       "      <td>0.022005</td>\n",
       "    </tr>\n",
       "    <tr>\n",
       "      <th>2017-01-04</th>\n",
       "      <td>1044.400024</td>\n",
       "      <td>1159.420044</td>\n",
       "      <td>1044.400024</td>\n",
       "      <td>1154.729980</td>\n",
       "      <td>344945984</td>\n",
       "      <td>0.106233</td>\n",
       "      <td>0.110130</td>\n",
       "    </tr>\n",
       "    <tr>\n",
       "      <th>2017-01-05</th>\n",
       "      <td>1156.729980</td>\n",
       "      <td>1191.099976</td>\n",
       "      <td>910.416992</td>\n",
       "      <td>1013.380005</td>\n",
       "      <td>510199008</td>\n",
       "      <td>-0.122410</td>\n",
       "      <td>0.308302</td>\n",
       "    </tr>\n",
       "    <tr>\n",
       "      <th>2017-01-06</th>\n",
       "      <td>1014.239990</td>\n",
       "      <td>1046.810059</td>\n",
       "      <td>883.943970</td>\n",
       "      <td>902.200989</td>\n",
       "      <td>351876000</td>\n",
       "      <td>-0.109711</td>\n",
       "      <td>0.184249</td>\n",
       "    </tr>\n",
       "  </tbody>\n",
       "</table>\n",
       "</div>"
      ],
      "text/plain": [
       "                   Open         High          Low    Adj Close     Volume  \\\n",
       "Date                                                                        \n",
       "2017-01-02   998.617004  1031.390015   996.702026  1021.750000  222184992   \n",
       "2017-01-03  1021.599976  1044.079956  1021.599976  1043.839966  185168000   \n",
       "2017-01-04  1044.400024  1159.420044  1044.400024  1154.729980  344945984   \n",
       "2017-01-05  1156.729980  1191.099976   910.416992  1013.380005  510199008   \n",
       "2017-01-06  1014.239990  1046.810059   883.943970   902.200989  351876000   \n",
       "\n",
       "             returns     range  \n",
       "Date                            \n",
       "2017-01-02  0.023464  0.034803  \n",
       "2017-01-03  0.021620  0.022005  \n",
       "2017-01-04  0.106233  0.110130  \n",
       "2017-01-05 -0.122410  0.308302  \n",
       "2017-01-06 -0.109711  0.184249  "
      ]
     },
     "execution_count": 8,
     "metadata": {},
     "output_type": "execute_result"
    }
   ],
   "source": [
    "# Manage Data and Add Features\n",
    "\n",
    "data.drop(columns=['Close'], inplace=True)\n",
    "df = data.copy()\n",
    "df['returns'] = df['Adj Close']/df['Adj Close'].shift(1) - 1  \n",
    "df['range'] = df['High']/df['Low'] -1\n",
    "\n",
    "df.dropna(inplace=True)\n",
    "\n",
    "df.head()"
   ]
  },
  {
   "cell_type": "code",
   "execution_count": 9,
   "metadata": {},
   "outputs": [
    {
     "data": {
      "text/html": [
       "<div>\n",
       "<style scoped>\n",
       "    .dataframe tbody tr th:only-of-type {\n",
       "        vertical-align: middle;\n",
       "    }\n",
       "\n",
       "    .dataframe tbody tr th {\n",
       "        vertical-align: top;\n",
       "    }\n",
       "\n",
       "    .dataframe thead th {\n",
       "        text-align: right;\n",
       "    }\n",
       "</style>\n",
       "<table border=\"1\" class=\"dataframe\">\n",
       "  <thead>\n",
       "    <tr style=\"text-align: right;\">\n",
       "      <th></th>\n",
       "      <th>returns</th>\n",
       "      <th>range</th>\n",
       "    </tr>\n",
       "    <tr>\n",
       "      <th>Date</th>\n",
       "      <th></th>\n",
       "      <th></th>\n",
       "    </tr>\n",
       "  </thead>\n",
       "  <tbody>\n",
       "    <tr>\n",
       "      <th>2017-01-02</th>\n",
       "      <td>0.023464</td>\n",
       "      <td>0.034803</td>\n",
       "    </tr>\n",
       "    <tr>\n",
       "      <th>2017-01-03</th>\n",
       "      <td>0.021620</td>\n",
       "      <td>0.022005</td>\n",
       "    </tr>\n",
       "    <tr>\n",
       "      <th>2017-01-04</th>\n",
       "      <td>0.106233</td>\n",
       "      <td>0.110130</td>\n",
       "    </tr>\n",
       "    <tr>\n",
       "      <th>2017-01-05</th>\n",
       "      <td>-0.122410</td>\n",
       "      <td>0.308302</td>\n",
       "    </tr>\n",
       "    <tr>\n",
       "      <th>2017-01-06</th>\n",
       "      <td>-0.109711</td>\n",
       "      <td>0.184249</td>\n",
       "    </tr>\n",
       "  </tbody>\n",
       "</table>\n",
       "</div>"
      ],
      "text/plain": [
       "             returns     range\n",
       "Date                          \n",
       "2017-01-02  0.023464  0.034803\n",
       "2017-01-03  0.021620  0.022005\n",
       "2017-01-04  0.106233  0.110130\n",
       "2017-01-05 -0.122410  0.308302\n",
       "2017-01-06 -0.109711  0.184249"
      ]
     },
     "execution_count": 9,
     "metadata": {},
     "output_type": "execute_result"
    }
   ],
   "source": [
    "# Structure Data for HMM\n",
    "\n",
    "X_train = df[['returns', 'range']]\n",
    "X_train.head()\n"
   ]
  },
  {
   "cell_type": "markdown",
   "metadata": {},
   "source": [
    "### HMM Learning"
   ]
  },
  {
   "cell_type": "code",
   "execution_count": 10,
   "metadata": {},
   "outputs": [
    {
     "data": {
      "text/plain": [
       "(<pyhhmm.gaussian.GaussianHMM at 0x2bd1e121c70>, 11065.286895746569)"
      ]
     },
     "execution_count": 10,
     "metadata": {},
     "output_type": "execute_result"
    }
   ],
   "source": [
    "# Fit HMM\n",
    "\n",
    "model = GaussianHMM(n_states=3, covariance_type=\"full\", n_emissions=2)\n",
    "model.train([np.array(X_train.values)])"
   ]
  },
  {
   "cell_type": "code",
   "execution_count": 11,
   "metadata": {},
   "outputs": [
    {
     "data": {
      "text/plain": [
       "array([0, 0, 2, 1, 1, 1, 2, 0, 0, 1, 2, 2, 0, 0, 0, 2, 1, 0, 0, 2, 0, 0,\n",
       "       0, 0, 0, 0, 0, 0, 0, 2])"
      ]
     },
     "execution_count": 11,
     "metadata": {},
     "output_type": "execute_result"
    }
   ],
   "source": [
    "# Check Results\n",
    "\n",
    "hidden_states = model.predict([X_train.values])[0]\n",
    "hidden_states[:30]"
   ]
  },
  {
   "cell_type": "code",
   "execution_count": 12,
   "metadata": {},
   "outputs": [
    {
     "data": {
      "text/plain": [
       "array([[-0.00054413,  0.02777579],\n",
       "       [-0.04040166,  0.08551856],\n",
       "       [ 0.03405127,  0.06016252]])"
      ]
     },
     "execution_count": 12,
     "metadata": {},
     "output_type": "execute_result"
    }
   ],
   "source": [
    "# Regime state means for each feature\n",
    "model.means"
   ]
  },
  {
   "cell_type": "code",
   "execution_count": 13,
   "metadata": {},
   "outputs": [
    {
     "data": {
      "text/plain": [
       "array([[[ 1.88975338e-04, -1.32623416e-05],\n",
       "        [-1.32623416e-05,  1.63970882e-04]],\n",
       "\n",
       "       [[ 1.44331269e-03, -1.53336420e-03],\n",
       "        [-1.53336420e-03,  3.46815542e-03]],\n",
       "\n",
       "       [[ 1.29348594e-03,  1.19853759e-03],\n",
       "        [ 1.19853759e-03,  1.69613640e-03]]])"
      ]
     },
     "execution_count": 13,
     "metadata": {},
     "output_type": "execute_result"
    }
   ],
   "source": [
    "# Regime state covars for each feature\n",
    "model.covars"
   ]
  },
  {
   "cell_type": "markdown",
   "metadata": {},
   "source": [
    "### Data Visualization"
   ]
  },
  {
   "cell_type": "code",
   "execution_count": 14,
   "metadata": {},
   "outputs": [
    {
     "name": "stdout",
     "output_type": "stream",
     "text": [
      "Correct number of rows  True\n"
     ]
    }
   ],
   "source": [
    "# Structure Prices for plotting\n",
    "\n",
    "prices = df['Adj Close'].values.astype(float)\n",
    "print('Correct number of rows ', len(prices)==len(hidden_states))\n",
    "\n",
    "i=0\n",
    "labels_0 = []\n",
    "labels_1 = []\n",
    "labels_2 = []\n",
    "\n",
    "\n",
    "for state in hidden_states:\n",
    "    if state == 0:\n",
    "        labels_0.append(prices[i])\n",
    "        labels_1.append(np.nan)\n",
    "        labels_2.append(np.nan)\n",
    "        \n",
    "    elif state == 1:\n",
    "        labels_0.append(np.nan)\n",
    "        labels_1.append(prices[i])\n",
    "        labels_2.append(np.nan)\n",
    "        \n",
    "    else:\n",
    "        labels_0.append(np.nan)\n",
    "        labels_1.append(np.nan)\n",
    "        labels_2.append(prices[i])\n",
    "        \n",
    "\n",
    "    i+=1\n",
    "\n"
   ]
  },
  {
   "cell_type": "code",
   "execution_count": 18,
   "metadata": {},
   "outputs": [
    {
     "data": {
      "image/png": "[encoded data removed]",
      "text/plain": [
       "<Figure size 1400x800 with 1 Axes>"
      ]
     },
     "metadata": {},
     "output_type": "display_data"
    }
   ],
   "source": [
    "# Plot Results\n",
    "\n",
    "fig = plt.figure(figsize=(14,8))\n",
    "plt.plot(labels_0, color='green')\n",
    "plt.plot(labels_1, color='red')\n",
    "plt.plot(labels_2, color='orange')\n",
    "\n",
    "plt.show()"
   ]
  }
 ],
 "metadata": {
  "kernelspec": {
   "display_name": "MLTRADE",
   "language": "python",
   "name": "python3"
  },
  "language_info": {
   "codemirror_mode": {
    "name": "ipython",
    "version": 3
   },
   "file_extension": ".py",
   "mimetype": "text/x-python",
   "name": "python",
   "nbconvert_exporter": "python",
   "pygments_lexer": "ipython3",
   "version": "3.9.18"
  }
 },
 "nbformat": 4,
 "nbformat_minor": 2
}
