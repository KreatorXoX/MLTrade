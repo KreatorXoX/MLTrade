{
 "cells": [
  {
   "cell_type": "code",
   "execution_count": 166,
   "metadata": {},
   "outputs": [],
   "source": [
    "import pandas as pd\n",
    "import numpy as np\n",
    "\n",
    "from hmmlearn import hmm\n",
    "from pandas_datareader.data import DataReader\n",
    "\n",
    "from ta.momentum import rsi\n",
    "from ta.trend import ema_indicator\n",
    "from ta.volatility import  BollingerBands,average_true_range\n",
    "\n",
    "import yfinance as yf\n",
    "yf.pdr_override()\n",
    "\n",
    "import matplotlib.pyplot as plt"
   ]
  },
  {
   "cell_type": "code",
   "execution_count": 167,
   "metadata": {},
   "outputs": [
    {
     "name": "stdout",
     "output_type": "stream",
     "text": [
      "[*********************100%%**********************]  1 of 1 completed\n"
     ]
    }
   ],
   "source": [
    "# Data Extraction\n",
    "start_date = '2021-01-01'\n",
    "\n",
    "symbol = 'BTC-USD'\n",
    "data = yf.download(symbol,start_date) "
   ]
  },
  {
   "cell_type": "code",
   "execution_count": 168,
   "metadata": {},
   "outputs": [
    {
     "data": {
      "text/html": [
       "<div>\n",
       "<style scoped>\n",
       "    .dataframe tbody tr th:only-of-type {\n",
       "        vertical-align: middle;\n",
       "    }\n",
       "\n",
       "    .dataframe tbody tr th {\n",
       "        vertical-align: top;\n",
       "    }\n",
       "\n",
       "    .dataframe thead th {\n",
       "        text-align: right;\n",
       "    }\n",
       "</style>\n",
       "<table border=\"1\" class=\"dataframe\">\n",
       "  <thead>\n",
       "    <tr style=\"text-align: right;\">\n",
       "      <th></th>\n",
       "      <th>Open</th>\n",
       "      <th>High</th>\n",
       "      <th>Low</th>\n",
       "      <th>Close</th>\n",
       "      <th>Adj Close</th>\n",
       "      <th>Volume</th>\n",
       "      <th>bb_middle</th>\n",
       "      <th>bb_upper</th>\n",
       "      <th>bb_lower</th>\n",
       "      <th>RSI</th>\n",
       "      <th>returns</th>\n",
       "      <th>range</th>\n",
       "    </tr>\n",
       "    <tr>\n",
       "      <th>Date</th>\n",
       "      <th></th>\n",
       "      <th></th>\n",
       "      <th></th>\n",
       "      <th></th>\n",
       "      <th></th>\n",
       "      <th></th>\n",
       "      <th></th>\n",
       "      <th></th>\n",
       "      <th></th>\n",
       "      <th></th>\n",
       "      <th></th>\n",
       "      <th></th>\n",
       "    </tr>\n",
       "  </thead>\n",
       "  <tbody>\n",
       "    <tr>\n",
       "      <th>2020-03-24</th>\n",
       "      <td>6436.642578</td>\n",
       "      <td>6789.022949</td>\n",
       "      <td>6411.066406</td>\n",
       "      <td>6734.803711</td>\n",
       "      <td>6734.803711</td>\n",
       "      <td>48221910672</td>\n",
       "      <td>5862.397531</td>\n",
       "      <td>7041.460496</td>\n",
       "      <td>4683.334566</td>\n",
       "      <td>47.200416</td>\n",
       "      <td>0.049637</td>\n",
       "      <td>0.058954</td>\n",
       "    </tr>\n",
       "    <tr>\n",
       "      <th>2020-03-25</th>\n",
       "      <td>6738.716797</td>\n",
       "      <td>6892.511230</td>\n",
       "      <td>6536.926270</td>\n",
       "      <td>6681.062988</td>\n",
       "      <td>6681.062988</td>\n",
       "      <td>44590107888</td>\n",
       "      <td>5774.514160</td>\n",
       "      <td>6672.155478</td>\n",
       "      <td>4876.872842</td>\n",
       "      <td>46.654438</td>\n",
       "      <td>-0.007980</td>\n",
       "      <td>0.054396</td>\n",
       "    </tr>\n",
       "    <tr>\n",
       "      <th>2020-03-26</th>\n",
       "      <td>6675.170898</td>\n",
       "      <td>6735.463867</td>\n",
       "      <td>6590.962891</td>\n",
       "      <td>6716.440430</td>\n",
       "      <td>6716.440430</td>\n",
       "      <td>35319797642</td>\n",
       "      <td>5899.203613</td>\n",
       "      <td>6798.953796</td>\n",
       "      <td>4999.453430</td>\n",
       "      <td>47.088336</td>\n",
       "      <td>0.005295</td>\n",
       "      <td>0.021924</td>\n",
       "    </tr>\n",
       "    <tr>\n",
       "      <th>2020-03-27</th>\n",
       "      <td>6719.389160</td>\n",
       "      <td>6793.836426</td>\n",
       "      <td>6466.701660</td>\n",
       "      <td>6469.798340</td>\n",
       "      <td>6469.798340</td>\n",
       "      <td>34585598367</td>\n",
       "      <td>5963.924421</td>\n",
       "      <td>6877.358080</td>\n",
       "      <td>5050.490762</td>\n",
       "      <td>44.378234</td>\n",
       "      <td>-0.036722</td>\n",
       "      <td>0.050588</td>\n",
       "    </tr>\n",
       "    <tr>\n",
       "      <th>2020-03-28</th>\n",
       "      <td>6467.253906</td>\n",
       "      <td>6467.500977</td>\n",
       "      <td>6117.837891</td>\n",
       "      <td>6242.193848</td>\n",
       "      <td>6242.193848</td>\n",
       "      <td>34885225901</td>\n",
       "      <td>6038.340681</td>\n",
       "      <td>6898.948576</td>\n",
       "      <td>5177.732786</td>\n",
       "      <td>41.977274</td>\n",
       "      <td>-0.035180</td>\n",
       "      <td>0.057155</td>\n",
       "    </tr>\n",
       "  </tbody>\n",
       "</table>\n",
       "</div>"
      ],
      "text/plain": [
       "                   Open         High          Low        Close    Adj Close  \\\n",
       "Date                                                                          \n",
       "2020-03-24  6436.642578  6789.022949  6411.066406  6734.803711  6734.803711   \n",
       "2020-03-25  6738.716797  6892.511230  6536.926270  6681.062988  6681.062988   \n",
       "2020-03-26  6675.170898  6735.463867  6590.962891  6716.440430  6716.440430   \n",
       "2020-03-27  6719.389160  6793.836426  6466.701660  6469.798340  6469.798340   \n",
       "2020-03-28  6467.253906  6467.500977  6117.837891  6242.193848  6242.193848   \n",
       "\n",
       "                 Volume    bb_middle     bb_upper     bb_lower        RSI  \\\n",
       "Date                                                                        \n",
       "2020-03-24  48221910672  5862.397531  7041.460496  4683.334566  47.200416   \n",
       "2020-03-25  44590107888  5774.514160  6672.155478  4876.872842  46.654438   \n",
       "2020-03-26  35319797642  5899.203613  6798.953796  4999.453430  47.088336   \n",
       "2020-03-27  34585598367  5963.924421  6877.358080  5050.490762  44.378234   \n",
       "2020-03-28  34885225901  6038.340681  6898.948576  5177.732786  41.977274   \n",
       "\n",
       "             returns     range  \n",
       "Date                            \n",
       "2020-03-24  0.049637  0.058954  \n",
       "2020-03-25 -0.007980  0.054396  \n",
       "2020-03-26  0.005295  0.021924  \n",
       "2020-03-27 -0.036722  0.050588  \n",
       "2020-03-28 -0.035180  0.057155  "
      ]
     },
     "execution_count": 168,
     "metadata": {},
     "output_type": "execute_result"
    }
   ],
   "source": [
    "# Implement the Indicators\n",
    "\n",
    "# Initialize Bollinger Bands Indicator\n",
    "indicator_bb = BollingerBands(close=data[\"Close\"], window=14, window_dev=1.5)\n",
    "\n",
    "# Add Bollinger Bands features\n",
    "data['bb_middle'] = indicator_bb.bollinger_mavg()\n",
    "data['bb_upper'] = indicator_bb.bollinger_hband()\n",
    "data['bb_lower'] = indicator_bb.bollinger_lband()\n",
    "\n",
    "# Initialize RSI Indicator\n",
    "data['RSI'] = rsi(data[\"Close\"], window=14)\n",
    "\n",
    "data['returns'] = data['Adj Close']/data['Adj Close'].shift(1) - 1  \n",
    "data['range'] = data['High']/data['Low'] -1\n",
    "\n",
    "data.dropna(inplace=True)\n",
    "\n",
    "save_df=data.iloc[800:]\n",
    "\n",
    "save_df.head()"
   ]
  },
  {
   "cell_type": "code",
   "execution_count": 169,
   "metadata": {},
   "outputs": [
    {
     "name": "stdout",
     "output_type": "stream",
     "text": [
      "False\n",
      "False\n"
     ]
    }
   ],
   "source": [
    "# Structure Data for HMM\n",
    "X_train = data[['RSI','bb_middle','bb_upper','bb_lower','returns','range']].values\n",
    "X_test = data[['RSI','bb_middle','bb_upper','bb_lower','returns','range']].iloc[800:].values\n",
    "\n",
    "\n",
    "print(np.isnan(X_train).any()) \n",
    "print(np.isinf(X_train).any()) "
   ]
  },
  {
   "cell_type": "code",
   "execution_count": 170,
   "metadata": {},
   "outputs": [
    {
     "data": {
      "text/plain": [
       "GaussianHMM(n_components=6, n_iter=1000)"
      ]
     },
     "execution_count": 170,
     "metadata": {},
     "output_type": "execute_result"
    }
   ],
   "source": [
    "# Train Gaussian HMM\n",
    "model = hmm.GaussianHMM(n_components=6, covariance_type=\"diag\", n_iter=1000)\n",
    "model.fit(X_train)"
   ]
  },
  {
   "cell_type": "code",
   "execution_count": 171,
   "metadata": {},
   "outputs": [
    {
     "data": {
      "text/plain": [
       "array([5, 5, 1, 1, 1, 1, 1, 1, 1, 1, 1, 1, 1, 1, 1, 1, 1, 1, 1, 1, 1, 1,\n",
       "       1, 1, 1, 1, 1, 1, 1, 1], dtype=int64)"
      ]
     },
     "execution_count": 171,
     "metadata": {},
     "output_type": "execute_result"
    }
   ],
   "source": [
    "# Check Results\n",
    "hidden_states = model.predict(X_train)\n",
    "hidden_states[:30]"
   ]
  },
  {
   "cell_type": "code",
   "execution_count": 172,
   "metadata": {},
   "outputs": [
    {
     "name": "stdout",
     "output_type": "stream",
     "text": [
      "Correct number of rows  True\n"
     ]
    }
   ],
   "source": [
    "# Structure Prices for plotting\n",
    "\n",
    "prices = data['Adj Close'].values.astype(float)\n",
    "print('Correct number of rows ', len(prices)==len(hidden_states))\n",
    "\n",
    "i=0\n",
    "labels_0 = []\n",
    "labels_1 = []\n",
    "labels_2 = []\n",
    "labels_3 = []\n",
    "labels_4 = []\n",
    "labels_5 = []\n",
    "\n",
    "for state in hidden_states:\n",
    "    if state == 0:\n",
    "        labels_0.append(prices[i])\n",
    "        labels_1.append(np.nan)\n",
    "        labels_2.append(np.nan)\n",
    "        labels_3.append(np.nan)\n",
    "        labels_4.append(np.nan)\n",
    "        labels_5.append(np.nan)\n",
    "        \n",
    "    elif state == 1:\n",
    "        labels_0.append(np.nan)\n",
    "        labels_1.append(prices[i])\n",
    "        labels_2.append(np.nan)\n",
    "        labels_3.append(np.nan)\n",
    "        labels_4.append(np.nan)\n",
    "        labels_5.append(np.nan)\n",
    "\n",
    "    elif state == 2:\n",
    "        labels_0.append(np.nan)\n",
    "        labels_1.append(np.nan)\n",
    "        labels_2.append(prices[i])\n",
    "        labels_3.append(np.nan)\n",
    "        labels_4.append(np.nan)\n",
    "        labels_5.append(np.nan)\n",
    "    elif state == 3:\n",
    "        labels_0.append(np.nan)\n",
    "        labels_1.append(np.nan)\n",
    "        labels_2.append(np.nan)\n",
    "        labels_3.append(prices[i])\n",
    "        labels_4.append(np.nan)\n",
    "        labels_5.append(np.nan)\n",
    "    elif state == 4:\n",
    "        labels_0.append(np.nan)\n",
    "        labels_1.append(np.nan)\n",
    "        labels_2.append(np.nan)\n",
    "        labels_3.append(np.nan)\n",
    "        labels_4.append(prices[i])\n",
    "        labels_5.append(np.nan)\n",
    "        \n",
    "    else:\n",
    "        labels_0.append(np.nan)\n",
    "        labels_1.append(np.nan)\n",
    "        labels_2.append(np.nan)\n",
    "        labels_3.append(np.nan)\n",
    "        labels_4.append(np.nan)\n",
    "        labels_5.append(prices[i])\n",
    "        \n",
    "\n",
    "    i+=1\n",
    "\n"
   ]
  },
  {
   "cell_type": "code",
   "execution_count": 173,
   "metadata": {},
   "outputs": [
    {
     "data": {
      "image/png": "[encoded data removed]",
      "text/plain": [
       "<Figure size 1400x800 with 1 Axes>"
      ]
     },
     "metadata": {},
     "output_type": "display_data"
    }
   ],
   "source": [
    "# Plot Results\n",
    "\n",
    "fig = plt.figure(figsize=(14,8))\n",
    "plt.plot(labels_0, color='yellow')\n",
    "plt.plot(labels_1, color='blue')\n",
    "plt.plot(labels_2, color='black')\n",
    "plt.plot(labels_3, color='red')\n",
    "plt.plot(labels_4, color='pink')\n",
    "plt.plot(labels_5, color='green')\n",
    "\n",
    "plt.show()"
   ]
  },
  {
   "cell_type": "code",
   "execution_count": null,
   "metadata": {},
   "outputs": [],
   "source": []
  }
 ],
 "metadata": {
  "kernelspec": {
   "display_name": "MLTRADE",
   "language": "python",
   "name": "python3"
  },
  "language_info": {
   "codemirror_mode": {
    "name": "ipython",
    "version": 3
   },
   "file_extension": ".py",
   "mimetype": "text/x-python",
   "name": "python",
   "nbconvert_exporter": "python",
   "pygments_lexer": "ipython3",
   "version": "3.9.18"
  }
 },
 "nbformat": 4,
 "nbformat_minor": 2
}
