{
 "cells": [
  {
   "cell_type": "markdown",
   "metadata": {},
   "source": [
    "### Imports"
   ]
  },
  {
   "cell_type": "code",
   "execution_count": 79,
   "metadata": {},
   "outputs": [],
   "source": [
    "import pandas as pd\n",
    "import numpy as np\n",
    "\n",
    "from pandas_datareader.data import DataReader\n",
    "from pandas_datareader.nasdaq_trader import get_nasdaq_symbols\n",
    "\n",
    "import yfinance as yf\n",
    "yf.pdr_override()\n",
    "\n",
    "# Feature Engineering\n",
    "from sklearn.preprocessing import StandardScaler\n",
    "\n",
    "# Machine Learning\n",
    "from sklearn.cluster import KMeans\n",
    "from sklearn import metrics\n",
    "from kneed import KneeLocator\n",
    "\n",
    "# Cointegration\n",
    "import statsmodels.api as sm\n",
    "from statsmodels.tsa.stattools import coint\n",
    "\n",
    "# Plotting - Visualization\n",
    "import matplotlib.pyplot as plt\n",
    "import matplotlib.cm as cm\n",
    "from sklearn.manifold import TSNE"
   ]
  },
  {
   "cell_type": "markdown",
   "metadata": {},
   "source": [
    "### Get Data"
   ]
  },
  {
   "cell_type": "code",
   "execution_count": 94,
   "metadata": {},
   "outputs": [],
   "source": [
    "# Parameters\n",
    "start_date = '2017-01-01'\n",
    "end_date = '2024-01-01'\n",
    "\n",
    "etf_data_filename = 'data/raw_etf_data.csv'\n",
    "coint_data_filename = 'data/raw_coint_pairs_data.csv'\n",
    "\n",
    "is_loaded_etf_data = True\n",
    "is_loaded_coint_pairs_data = True\n"
   ]
  },
  {
   "cell_type": "code",
   "execution_count": 81,
   "metadata": {},
   "outputs": [
    {
     "name": "stdout",
     "output_type": "stream",
     "text": [
      "[*********************100%%**********************]  594 of 594 completed"
     ]
    },
    {
     "name": "stderr",
     "output_type": "stream",
     "text": [
      "\n",
      "5 Failed downloads:\n",
      "['MCHS', 'BRRR', 'SKRE', 'MEMS', 'DYFI']: Exception(\"%ticker%: Data doesn't exist for startDate = 1483246800, endDate = 1704085200\")\n"
     ]
    },
    {
     "name": "stdout",
     "output_type": "stream",
     "text": [
      "\n"
     ]
    }
   ],
   "source": [
    "# Get Data\n",
    "\n",
    "if not is_loaded_etf_data:\n",
    "    symbols = get_nasdaq_symbols()\n",
    "    symbols = symbols[(symbols['ETF']==True) &(symbols['Market Category']== \"G\")]\n",
    "    symbols = symbols.index.tolist()    \n",
    "    data = DataReader(symbols, start_date, end_date)['Adj Close']\n",
    "    data.to_csv(etf_data_filename)"
   ]
  },
  {
   "cell_type": "code",
   "execution_count": 82,
   "metadata": {},
   "outputs": [
    {
     "name": "stdout",
     "output_type": "stream",
     "text": [
      "null values False\n",
      "shape (1760, 259)\n"
     ]
    },
    {
     "data": {
      "text/html": [
       "<div>\n",
       "<style scoped>\n",
       "    .dataframe tbody tr th:only-of-type {\n",
       "        vertical-align: middle;\n",
       "    }\n",
       "\n",
       "    .dataframe tbody tr th {\n",
       "        vertical-align: top;\n",
       "    }\n",
       "\n",
       "    .dataframe thead th {\n",
       "        text-align: right;\n",
       "    }\n",
       "</style>\n",
       "<table border=\"1\" class=\"dataframe\">\n",
       "  <thead>\n",
       "    <tr style=\"text-align: right;\">\n",
       "      <th></th>\n",
       "      <th>AADR</th>\n",
       "      <th>AAXJ</th>\n",
       "      <th>ACWI</th>\n",
       "      <th>ACWX</th>\n",
       "      <th>AGNG</th>\n",
       "      <th>AGZD</th>\n",
       "      <th>AIA</th>\n",
       "      <th>AIRR</th>\n",
       "      <th>ALTY</th>\n",
       "      <th>ANGL</th>\n",
       "      <th>...</th>\n",
       "      <th>VTHR</th>\n",
       "      <th>VTIP</th>\n",
       "      <th>VTWG</th>\n",
       "      <th>VTWO</th>\n",
       "      <th>VTWV</th>\n",
       "      <th>VWOB</th>\n",
       "      <th>VXUS</th>\n",
       "      <th>VYMI</th>\n",
       "      <th>WOOD</th>\n",
       "      <th>XT</th>\n",
       "    </tr>\n",
       "    <tr>\n",
       "      <th>Date</th>\n",
       "      <th></th>\n",
       "      <th></th>\n",
       "      <th></th>\n",
       "      <th></th>\n",
       "      <th></th>\n",
       "      <th></th>\n",
       "      <th></th>\n",
       "      <th></th>\n",
       "      <th></th>\n",
       "      <th></th>\n",
       "      <th></th>\n",
       "      <th></th>\n",
       "      <th></th>\n",
       "      <th></th>\n",
       "      <th></th>\n",
       "      <th></th>\n",
       "      <th></th>\n",
       "      <th></th>\n",
       "      <th></th>\n",
       "      <th></th>\n",
       "      <th></th>\n",
       "    </tr>\n",
       "  </thead>\n",
       "  <tbody>\n",
       "    <tr>\n",
       "      <th>2017-01-03 00:00:00</th>\n",
       "      <td>38.266666</td>\n",
       "      <td>48.610233</td>\n",
       "      <td>52.050152</td>\n",
       "      <td>33.607410</td>\n",
       "      <td>14.513459</td>\n",
       "      <td>14.884954</td>\n",
       "      <td>40.685699</td>\n",
       "      <td>23.451797</td>\n",
       "      <td>8.660429</td>\n",
       "      <td>20.295166</td>\n",
       "      <td>...</td>\n",
       "      <td>92.506104</td>\n",
       "      <td>39.782997</td>\n",
       "      <td>106.655472</td>\n",
       "      <td>49.565151</td>\n",
       "      <td>91.095413</td>\n",
       "      <td>55.973507</td>\n",
       "      <td>37.490688</td>\n",
       "      <td>42.702919</td>\n",
       "      <td>47.666119</td>\n",
       "      <td>25.109819</td>\n",
       "    </tr>\n",
       "    <tr>\n",
       "      <th>2017-01-04 00:00:00</th>\n",
       "      <td>38.925316</td>\n",
       "      <td>49.092216</td>\n",
       "      <td>52.495319</td>\n",
       "      <td>33.980911</td>\n",
       "      <td>14.513459</td>\n",
       "      <td>14.918933</td>\n",
       "      <td>40.903084</td>\n",
       "      <td>23.797682</td>\n",
       "      <td>8.782164</td>\n",
       "      <td>20.358395</td>\n",
       "      <td>...</td>\n",
       "      <td>93.569313</td>\n",
       "      <td>39.799187</td>\n",
       "      <td>108.894699</td>\n",
       "      <td>50.308537</td>\n",
       "      <td>92.473640</td>\n",
       "      <td>56.196552</td>\n",
       "      <td>37.904469</td>\n",
       "      <td>43.135925</td>\n",
       "      <td>48.091225</td>\n",
       "      <td>25.436159</td>\n",
       "    </tr>\n",
       "    <tr>\n",
       "      <th>2017-01-05 00:00:00</th>\n",
       "      <td>39.342773</td>\n",
       "      <td>49.784515</td>\n",
       "      <td>52.696091</td>\n",
       "      <td>34.271427</td>\n",
       "      <td>14.513459</td>\n",
       "      <td>14.915841</td>\n",
       "      <td>41.407413</td>\n",
       "      <td>23.393661</td>\n",
       "      <td>8.847667</td>\n",
       "      <td>20.407562</td>\n",
       "      <td>...</td>\n",
       "      <td>93.399536</td>\n",
       "      <td>39.847748</td>\n",
       "      <td>108.056190</td>\n",
       "      <td>49.806854</td>\n",
       "      <td>91.227081</td>\n",
       "      <td>56.556274</td>\n",
       "      <td>38.188427</td>\n",
       "      <td>43.553993</td>\n",
       "      <td>48.055805</td>\n",
       "      <td>25.520075</td>\n",
       "    </tr>\n",
       "    <tr>\n",
       "      <th>2017-01-06 00:00:00</th>\n",
       "      <td>39.212898</td>\n",
       "      <td>49.539150</td>\n",
       "      <td>52.704803</td>\n",
       "      <td>34.130318</td>\n",
       "      <td>14.513459</td>\n",
       "      <td>14.903489</td>\n",
       "      <td>41.233505</td>\n",
       "      <td>23.393661</td>\n",
       "      <td>8.932878</td>\n",
       "      <td>20.428642</td>\n",
       "      <td>...</td>\n",
       "      <td>93.640778</td>\n",
       "      <td>39.782997</td>\n",
       "      <td>107.503517</td>\n",
       "      <td>49.597076</td>\n",
       "      <td>90.735466</td>\n",
       "      <td>56.397991</td>\n",
       "      <td>38.107296</td>\n",
       "      <td>43.322559</td>\n",
       "      <td>48.055805</td>\n",
       "      <td>25.566696</td>\n",
       "    </tr>\n",
       "    <tr>\n",
       "      <th>2017-01-09 00:00:00</th>\n",
       "      <td>39.352047</td>\n",
       "      <td>49.582962</td>\n",
       "      <td>52.582607</td>\n",
       "      <td>34.080517</td>\n",
       "      <td>14.513459</td>\n",
       "      <td>14.866423</td>\n",
       "      <td>41.346550</td>\n",
       "      <td>22.900957</td>\n",
       "      <td>8.875490</td>\n",
       "      <td>20.442692</td>\n",
       "      <td>...</td>\n",
       "      <td>93.319130</td>\n",
       "      <td>39.807278</td>\n",
       "      <td>107.436821</td>\n",
       "      <td>49.264141</td>\n",
       "      <td>89.638153</td>\n",
       "      <td>56.541878</td>\n",
       "      <td>38.034283</td>\n",
       "      <td>43.203114</td>\n",
       "      <td>47.745827</td>\n",
       "      <td>25.629166</td>\n",
       "    </tr>\n",
       "  </tbody>\n",
       "</table>\n",
       "<p>5 rows × 259 columns</p>\n",
       "</div>"
      ],
      "text/plain": [
       "                          AADR       AAXJ       ACWI       ACWX       AGNG  \\\n",
       "Date                                                                         \n",
       "2017-01-03 00:00:00  38.266666  48.610233  52.050152  33.607410  14.513459   \n",
       "2017-01-04 00:00:00  38.925316  49.092216  52.495319  33.980911  14.513459   \n",
       "2017-01-05 00:00:00  39.342773  49.784515  52.696091  34.271427  14.513459   \n",
       "2017-01-06 00:00:00  39.212898  49.539150  52.704803  34.130318  14.513459   \n",
       "2017-01-09 00:00:00  39.352047  49.582962  52.582607  34.080517  14.513459   \n",
       "\n",
       "                          AGZD        AIA       AIRR      ALTY       ANGL  \\\n",
       "Date                                                                        \n",
       "2017-01-03 00:00:00  14.884954  40.685699  23.451797  8.660429  20.295166   \n",
       "2017-01-04 00:00:00  14.918933  40.903084  23.797682  8.782164  20.358395   \n",
       "2017-01-05 00:00:00  14.915841  41.407413  23.393661  8.847667  20.407562   \n",
       "2017-01-06 00:00:00  14.903489  41.233505  23.393661  8.932878  20.428642   \n",
       "2017-01-09 00:00:00  14.866423  41.346550  22.900957  8.875490  20.442692   \n",
       "\n",
       "                     ...       VTHR       VTIP        VTWG       VTWO  \\\n",
       "Date                 ...                                                \n",
       "2017-01-03 00:00:00  ...  92.506104  39.782997  106.655472  49.565151   \n",
       "2017-01-04 00:00:00  ...  93.569313  39.799187  108.894699  50.308537   \n",
       "2017-01-05 00:00:00  ...  93.399536  39.847748  108.056190  49.806854   \n",
       "2017-01-06 00:00:00  ...  93.640778  39.782997  107.503517  49.597076   \n",
       "2017-01-09 00:00:00  ...  93.319130  39.807278  107.436821  49.264141   \n",
       "\n",
       "                          VTWV       VWOB       VXUS       VYMI       WOOD  \\\n",
       "Date                                                                         \n",
       "2017-01-03 00:00:00  91.095413  55.973507  37.490688  42.702919  47.666119   \n",
       "2017-01-04 00:00:00  92.473640  56.196552  37.904469  43.135925  48.091225   \n",
       "2017-01-05 00:00:00  91.227081  56.556274  38.188427  43.553993  48.055805   \n",
       "2017-01-06 00:00:00  90.735466  56.397991  38.107296  43.322559  48.055805   \n",
       "2017-01-09 00:00:00  89.638153  56.541878  38.034283  43.203114  47.745827   \n",
       "\n",
       "                            XT  \n",
       "Date                            \n",
       "2017-01-03 00:00:00  25.109819  \n",
       "2017-01-04 00:00:00  25.436159  \n",
       "2017-01-05 00:00:00  25.520075  \n",
       "2017-01-06 00:00:00  25.566696  \n",
       "2017-01-09 00:00:00  25.629166  \n",
       "\n",
       "[5 rows x 259 columns]"
      ]
     },
     "execution_count": 82,
     "metadata": {},
     "output_type": "execute_result"
    }
   ],
   "source": [
    "# Load Data and Refactor\n",
    "\n",
    "loaded_etf_data = pd.read_csv(etf_data_filename)\n",
    "loaded_etf_data.dropna(inplace=True,axis=1)\n",
    "loaded_etf_data = loaded_etf_data.set_index('Date')\n",
    "\n",
    "print(f\"null values {loaded_etf_data.isnull().values.any()}\")\n",
    "print(f\"shape {loaded_etf_data.shape}\")\n",
    "loaded_etf_data.head()\n"
   ]
  },
  {
   "cell_type": "markdown",
   "metadata": {},
   "source": [
    "### Feature Engineering"
   ]
  },
  {
   "cell_type": "code",
   "execution_count": 83,
   "metadata": {},
   "outputs": [
    {
     "data": {
      "text/html": [
       "<div>\n",
       "<style scoped>\n",
       "    .dataframe tbody tr th:only-of-type {\n",
       "        vertical-align: middle;\n",
       "    }\n",
       "\n",
       "    .dataframe tbody tr th {\n",
       "        vertical-align: top;\n",
       "    }\n",
       "\n",
       "    .dataframe thead th {\n",
       "        text-align: right;\n",
       "    }\n",
       "</style>\n",
       "<table border=\"1\" class=\"dataframe\">\n",
       "  <thead>\n",
       "    <tr style=\"text-align: right;\">\n",
       "      <th></th>\n",
       "      <th>Returns</th>\n",
       "      <th>Volatility</th>\n",
       "    </tr>\n",
       "  </thead>\n",
       "  <tbody>\n",
       "    <tr>\n",
       "      <th>AADR</th>\n",
       "      <td>0.080586</td>\n",
       "      <td>0.224497</td>\n",
       "    </tr>\n",
       "    <tr>\n",
       "      <th>AAXJ</th>\n",
       "      <td>0.066470</td>\n",
       "      <td>0.206656</td>\n",
       "    </tr>\n",
       "    <tr>\n",
       "      <th>ACWI</th>\n",
       "      <td>0.112538</td>\n",
       "      <td>0.180856</td>\n",
       "    </tr>\n",
       "    <tr>\n",
       "      <th>ACWX</th>\n",
       "      <td>0.076196</td>\n",
       "      <td>0.179948</td>\n",
       "    </tr>\n",
       "    <tr>\n",
       "      <th>AGNG</th>\n",
       "      <td>0.112798</td>\n",
       "      <td>0.180827</td>\n",
       "    </tr>\n",
       "  </tbody>\n",
       "</table>\n",
       "</div>"
      ],
      "text/plain": [
       "       Returns  Volatility\n",
       "AADR  0.080586    0.224497\n",
       "AAXJ  0.066470    0.206656\n",
       "ACWI  0.112538    0.180856\n",
       "ACWX  0.076196    0.179948\n",
       "AGNG  0.112798    0.180827"
      ]
     },
     "execution_count": 83,
     "metadata": {},
     "output_type": "execute_result"
    }
   ],
   "source": [
    "# We will be working with Returns and Volatility\n",
    "\n",
    "df_featured = pd.DataFrame(loaded_etf_data.pct_change().mean()*252,columns=['Returns'])\n",
    "df_featured['Volatility'] =loaded_etf_data.pct_change().std()*np.sqrt(252)\n",
    "df_featured.head()"
   ]
  },
  {
   "cell_type": "code",
   "execution_count": 84,
   "metadata": {},
   "outputs": [
    {
     "data": {
      "image/png": "[encoded data removed]",
      "text/plain": [
       "<Figure size 640x480 with 1 Axes>"
      ]
     },
     "metadata": {},
     "output_type": "display_data"
    }
   ],
   "source": [
    "### To help understand the logic above...\n",
    "returns_data = pd.Series([0.4, -0.2, 0.3, -0.4,0.3,0.02,-0.2])\n",
    "average_daily_return = returns_data.mean()\n",
    "annualized_return = average_daily_return * 252\n",
    "\n",
    "# Plot daily returns\n",
    "plt.plot(returns_data, marker='o', linestyle='-', color='b', label='Daily Returns')\n",
    "\n",
    "# Plot average daily return as a horizontal line\n",
    "plt.axhline(y=average_daily_return, linestyle='--', color='r', label='Average Daily Return')\n",
    "\n",
    "# Plot annualized return as a horizontal line\n",
    "plt.axhline(y=annualized_return, linestyle='--', color='g', label='Annualized Return')\n",
    "\n",
    "# Labeling\n",
    "plt.xlabel('Days')\n",
    "plt.ylabel('Returns')\n",
    "plt.legend()\n",
    "plt.title('Visualizing Daily Returns and Average Daily Return')\n",
    "plt.show()"
   ]
  },
  {
   "cell_type": "code",
   "execution_count": 85,
   "metadata": {},
   "outputs": [
    {
     "data": {
      "text/html": [
       "<div>\n",
       "<style scoped>\n",
       "    .dataframe tbody tr th:only-of-type {\n",
       "        vertical-align: middle;\n",
       "    }\n",
       "\n",
       "    .dataframe tbody tr th {\n",
       "        vertical-align: top;\n",
       "    }\n",
       "\n",
       "    .dataframe thead th {\n",
       "        text-align: right;\n",
       "    }\n",
       "</style>\n",
       "<table border=\"1\" class=\"dataframe\">\n",
       "  <thead>\n",
       "    <tr style=\"text-align: right;\">\n",
       "      <th></th>\n",
       "      <th>Returns</th>\n",
       "      <th>Volatility</th>\n",
       "    </tr>\n",
       "  </thead>\n",
       "  <tbody>\n",
       "    <tr>\n",
       "      <th>AADR</th>\n",
       "      <td>-0.100598</td>\n",
       "      <td>0.223925</td>\n",
       "    </tr>\n",
       "    <tr>\n",
       "      <th>AAXJ</th>\n",
       "      <td>-0.288638</td>\n",
       "      <td>0.035571</td>\n",
       "    </tr>\n",
       "    <tr>\n",
       "      <th>ACWI</th>\n",
       "      <td>0.325056</td>\n",
       "      <td>-0.236819</td>\n",
       "    </tr>\n",
       "    <tr>\n",
       "      <th>ACWX</th>\n",
       "      <td>-0.159077</td>\n",
       "      <td>-0.246399</td>\n",
       "    </tr>\n",
       "    <tr>\n",
       "      <th>AGNG</th>\n",
       "      <td>0.328517</td>\n",
       "      <td>-0.237122</td>\n",
       "    </tr>\n",
       "  </tbody>\n",
       "</table>\n",
       "</div>"
      ],
      "text/plain": [
       "       Returns  Volatility\n",
       "AADR -0.100598    0.223925\n",
       "AAXJ -0.288638    0.035571\n",
       "ACWI  0.325056   -0.236819\n",
       "ACWX -0.159077   -0.246399\n",
       "AGNG  0.328517   -0.237122"
      ]
     },
     "execution_count": 85,
     "metadata": {},
     "output_type": "execute_result"
    }
   ],
   "source": [
    "# Scale Features\n",
    "\n",
    "scaler = StandardScaler()\n",
    "scaler = scaler.fit_transform(df_featured)\n",
    "\n",
    "df_scaled = pd.DataFrame(scaler,columns=df_featured.columns,index=df_featured.index)\n",
    "df_scaled.head()"
   ]
  },
  {
   "cell_type": "markdown",
   "metadata": {},
   "source": [
    "### K-Means Clustering"
   ]
  },
  {
   "cell_type": "code",
   "execution_count": 86,
   "metadata": {},
   "outputs": [
    {
     "name": "stderr",
     "output_type": "stream",
     "text": [
      "c:\\Users\\Kreator\\anaconda3\\envs\\MLTRADE\\lib\\site-packages\\sklearn\\cluster\\_kmeans.py:1036: UserWarning: KMeans is known to have a memory leak on Windows with MKL, when there are less chunks than available threads. You can avoid it by setting the environment variable OMP_NUM_THREADS=2.\n",
      "  warnings.warn(\n"
     ]
    },
    {
     "name": "stdout",
     "output_type": "stream",
     "text": [
      "Optimum number of clusters 5\n"
     ]
    }
   ],
   "source": [
    "# Optimum number of clusters ?\n",
    "\n",
    "X = df_scaled.copy()\n",
    "\n",
    "distortions = []\n",
    "\n",
    "for k in range(1,15):\n",
    "    kmeanModel = KMeans(n_clusters=k)\n",
    "    kmeanModel.fit(X)\n",
    "    distortions.append(kmeanModel.inertia_)\n",
    "\n",
    "kl=KneeLocator(K, distortions, curve='convex', direction='decreasing')\n",
    "c = kl.elbow\n",
    "\n",
    "print(f\"Optimum number of clusters {c}\")"
   ]
  },
  {
   "cell_type": "code",
   "execution_count": 87,
   "metadata": {},
   "outputs": [],
   "source": [
    "# Fit The Model\n",
    "\n",
    "k_means = KMeans(n_clusters=c)\n",
    "k_means.fit(X)\n",
    "prediction = k_means.predict(df_scaled)\n"
   ]
  },
  {
   "cell_type": "code",
   "execution_count": 88,
   "metadata": {},
   "outputs": [
    {
     "data": {
      "image/png": "[encoded data removed]",
      "text/plain": [
       "<Figure size 1700x700 with 2 Axes>"
      ]
     },
     "metadata": {},
     "output_type": "display_data"
    }
   ],
   "source": [
    "# Plotting\n",
    "\n",
    "centroids = k_means.cluster_centers_\n",
    "fig = plt.figure(figsize=(17, 7))\n",
    "ax = fig.add_subplot(111)\n",
    "scatter = ax.scatter(X.iloc[:,0],X.iloc[:,1],c=k_means.labels_,cmap=\"rainbow\",label=X.index)\n",
    "ax.set_title('K-Means Clustering')\n",
    "ax.set_xlabel('Mean Returns')\n",
    "ax.set_ylabel('Volatility')\n",
    "plt.colorbar(scatter)\n",
    "plt.plot(centroids[:,0],centroids[:,1],'k*',markersize=20)\n",
    "plt.show()\n"
   ]
  },
  {
   "cell_type": "code",
   "execution_count": 89,
   "metadata": {},
   "outputs": [
    {
     "data": {
      "text/plain": [
       "AADR    2\n",
       "AAXJ    2\n",
       "ACWI    2\n",
       "ACWX    2\n",
       "AGNG    2\n",
       "       ..\n",
       "VWOB    0\n",
       "VXUS    2\n",
       "VYMI    2\n",
       "WOOD    2\n",
       "XT      1\n",
       "Length: 259, dtype: int32"
      ]
     },
     "execution_count": 89,
     "metadata": {},
     "output_type": "execute_result"
    }
   ],
   "source": [
    "# Return Series\n",
    "\n",
    "clustered_series = pd.Series(index=X.index,data=k_means.labels_.flatten())\n",
    "clustered_series_all = pd.Series(index=X.index,data=k_means.labels_.flatten())\n",
    "clustered_series = clustered_series[clustered_series != -1]\n",
    "clustered_series"
   ]
  },
  {
   "cell_type": "code",
   "execution_count": 90,
   "metadata": {},
   "outputs": [
    {
     "name": "stdout",
     "output_type": "stream",
     "text": [
      "2    123\n",
      "1     83\n",
      "0     51\n",
      "3      1\n",
      "4      1\n",
      "dtype: int64\n"
     ]
    },
    {
     "data": {
      "image/png": "[encoded data removed]",
      "text/plain": [
       "<Figure size 1000x500 with 1 Axes>"
      ]
     },
     "metadata": {},
     "output_type": "display_data"
    }
   ],
   "source": [
    "# Plotting\n",
    "print(clustered_series.value_counts())\n",
    "plt.figure(figsize=(10,5))\n",
    "plt.bar(range(len(clustered_series.value_counts())),clustered_series.value_counts())\n",
    "plt.xlabel('Cluster')\n",
    "plt.ylabel('Stocks')\n",
    "plt.title('Cluster Member Counts')\n",
    "plt.show()"
   ]
  },
  {
   "cell_type": "code",
   "execution_count": 97,
   "metadata": {},
   "outputs": [
    {
     "name": "stdout",
     "output_type": "stream",
     "text": [
      "clean cluster  AADR    2\n",
      "AAXJ    2\n",
      "ACWI    2\n",
      "ACWX    2\n",
      "AGNG    2\n",
      "AGZD    0\n",
      "AIA     2\n",
      "AIRR    1\n",
      "ALTY    2\n",
      "ANGL    0\n",
      "dtype: int32\n",
      "Clean stocks number 257\n",
      "Original stocks number 259\n"
     ]
    },
    {
     "data": {
      "image/png": "[encoded data removed]",
      "text/plain": [
       "<Figure size 1200x600 with 1 Axes>"
      ]
     },
     "metadata": {},
     "output_type": "display_data"
    }
   ],
   "source": [
    "# Remove Outliers\n",
    "\n",
    "clusters_clean = clustered_series[clustered_series < 3]\n",
    "\n",
    "print(f\"clean cluster  {clusters_clean.head(10)}\")\n",
    "print(f\"Clean stocks number {len(clusters_clean)}\")\n",
    "print(f\"Original stocks number {len(clustered_series)}\")\n",
    "\n",
    "plt.figure(figsize=(12,6))\n",
    "plt.bar(range(len(clusters_clean.value_counts())),clusters_clean.value_counts())\n",
    "plt.xlabel('Cluster')\n",
    "plt.ylabel('Stocks')\n",
    "plt.title('Cluster Member Counts')\n",
    "plt.show()\n"
   ]
  },
  {
   "cell_type": "markdown",
   "metadata": {},
   "source": [
    "### Cointegration to find which pairs belong to the same cluster"
   ]
  },
  {
   "cell_type": "code",
   "execution_count": 92,
   "metadata": {},
   "outputs": [],
   "source": [
    "# Calculate Cointegration\n",
    "\n",
    "def calculate_cointegration(series_1, series_2):\n",
    "    # series_1 and series_2 are series containing prices of two stocks\n",
    "    coint_flag = 0\n",
    "    coint_res = coint(series_1, series_2)\n",
    "\n",
    "    coint_t = coint_res[0] # strength of cointegration\n",
    "    p_value = coint_res[1]\n",
    "    critical_value = coint_res[2][1]\n",
    "\n",
    "    # get hedge ratio\n",
    "    model = sm.OLS(series_1, series_2).fit()\n",
    "    hedge_ratio = model.params[0]\n",
    "\n",
    "    # check for cointegration\n",
    "    # 0.1, 0.05, 0.01 are the confidence levels for rejecting the null hypothesis\n",
    "    # if p-value is less than this, we have evidence for cointegration\n",
    "    coint_flag = 1 if p_value < 0.05 and coint_t < critical_value else 0\n",
    "    return coint_flag, hedge_ratio"
   ]
  },
  {
   "cell_type": "code",
   "execution_count": 98,
   "metadata": {},
   "outputs": [],
   "source": [
    "# Loop and calculate cointegrated pairs\n",
    "\n",
    "tested_pairs=[]\n",
    "cointegrated_pairs=[]\n",
    "\n",
    "if not is_loaded_coint_pairs_data:\n",
    "    # we use the cluster from above thats is cleaned from outliners\n",
    "    for base_asset in clusters_clean.index:\n",
    "        # cluster_clean.index is the ticker of the stocks\n",
    "\n",
    "        base_label = clusters_clean[base_asset] # cluster label of the base asset\n",
    "\n",
    "        for quote_asset in clusters_clean.index:\n",
    "            compare_label = clusters_clean[quote_asset] # cluster label of the compared asset\n",
    "\n",
    "            if base_asset != quote_asset and base_label == compare_label and (quote_asset,base_asset) not in tested_pairs:\n",
    "                tested_pairs.append((base_asset,quote_asset))\n",
    "                coint_flag, hedge_ratio = calculate_cointegration(loaded_etf_data[base_asset], loaded_etf_data[quote_asset])\n",
    "                if coint_flag == 1:\n",
    "                    cointegrated_pairs.append({\"base_asset\":base_asset,\"compared_asset\":quote_asset,\"label\":compare_label,\"hedge_ratio\":hedge_ratio})\n",
    "\n",
    "\n",
    "    cointegrated_pairs_df = pd.DataFrame(cointegrated_pairs).sort_values(by=['label'])\n",
    "    cointegrated_pairs_df.to_csv(coint_data_filename)"
   ]
  },
  {
   "cell_type": "code",
   "execution_count": 99,
   "metadata": {},
   "outputs": [
    {
     "data": {
      "text/html": [
       "<div>\n",
       "<style scoped>\n",
       "    .dataframe tbody tr th:only-of-type {\n",
       "        vertical-align: middle;\n",
       "    }\n",
       "\n",
       "    .dataframe tbody tr th {\n",
       "        vertical-align: top;\n",
       "    }\n",
       "\n",
       "    .dataframe thead th {\n",
       "        text-align: right;\n",
       "    }\n",
       "</style>\n",
       "<table border=\"1\" class=\"dataframe\">\n",
       "  <thead>\n",
       "    <tr style=\"text-align: right;\">\n",
       "      <th></th>\n",
       "      <th>base_asset</th>\n",
       "      <th>compared_asset</th>\n",
       "      <th>label</th>\n",
       "      <th>hedge_ratio</th>\n",
       "    </tr>\n",
       "  </thead>\n",
       "  <tbody>\n",
       "    <tr>\n",
       "      <th>0</th>\n",
       "      <td>MFLX</td>\n",
       "      <td>PFF</td>\n",
       "      <td>0</td>\n",
       "      <td>0.545369</td>\n",
       "    </tr>\n",
       "    <tr>\n",
       "      <th>1</th>\n",
       "      <td>GOVI</td>\n",
       "      <td>MBB</td>\n",
       "      <td>0</td>\n",
       "      <td>0.327130</td>\n",
       "    </tr>\n",
       "    <tr>\n",
       "      <th>2</th>\n",
       "      <td>HISF</td>\n",
       "      <td>VTIP</td>\n",
       "      <td>0</td>\n",
       "      <td>0.960913</td>\n",
       "    </tr>\n",
       "    <tr>\n",
       "      <th>3</th>\n",
       "      <td>LMBS</td>\n",
       "      <td>VGSH</td>\n",
       "      <td>0</td>\n",
       "      <td>0.814744</td>\n",
       "    </tr>\n",
       "    <tr>\n",
       "      <th>4</th>\n",
       "      <td>IUSB</td>\n",
       "      <td>VGIT</td>\n",
       "      <td>0</td>\n",
       "      <td>0.765087</td>\n",
       "    </tr>\n",
       "  </tbody>\n",
       "</table>\n",
       "</div>"
      ],
      "text/plain": [
       "  base_asset compared_asset  label  hedge_ratio\n",
       "0       MFLX            PFF      0     0.545369\n",
       "1       GOVI            MBB      0     0.327130\n",
       "2       HISF           VTIP      0     0.960913\n",
       "3       LMBS           VGSH      0     0.814744\n",
       "4       IUSB           VGIT      0     0.765087"
      ]
     },
     "execution_count": 99,
     "metadata": {},
     "output_type": "execute_result"
    }
   ],
   "source": [
    "# Load Data\n",
    "\n",
    "df_coint_pairs = pd.read_csv(coint_data_filename).iloc[:,1:]\n",
    "df_coint_pairs.head()\n",
    "\n"
   ]
  }
 ],
 "metadata": {
  "kernelspec": {
   "display_name": "MLTRADE",
   "language": "python",
   "name": "python3"
  },
  "language_info": {
   "codemirror_mode": {
    "name": "ipython",
    "version": 3
   },
   "file_extension": ".py",
   "mimetype": "text/x-python",
   "name": "python",
   "nbconvert_exporter": "python",
   "pygments_lexer": "ipython3",
   "version": "3.9.18"
  }
 },
 "nbformat": 4,
 "nbformat_minor": 2
}
