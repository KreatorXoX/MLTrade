{
 "cells": [
  {
   "cell_type": "markdown",
   "metadata": {},
   "source": [
    "### imports"
   ]
  },
  {
   "cell_type": "code",
   "execution_count": 110,
   "metadata": {},
   "outputs": [],
   "source": [
    "from random import random\n",
    "import numpy as np\n",
    "import torch\n",
    "import time"
   ]
  },
  {
   "cell_type": "markdown",
   "metadata": {},
   "source": [
    "### Comments"
   ]
  },
  {
   "cell_type": "code",
   "execution_count": 13,
   "metadata": {},
   "outputs": [
    {
     "name": "stdout",
     "output_type": "stream",
     "text": [
      "\n",
      "    this is a docstring for a function\n",
      "    \n"
     ]
    }
   ],
   "source": [
    "\"\"\"\n",
    "this is a docstring\n",
    "can be used for multiple lines\n",
    "\"\"\"\n",
    "\n",
    "def myFunction():\n",
    "    \"\"\"\n",
    "    this is a docstring for a function\n",
    "    \"\"\"\n",
    "\n",
    "print(myFunction.__doc__)"
   ]
  },
  {
   "cell_type": "markdown",
   "metadata": {},
   "source": [
    "### Variables"
   ]
  },
  {
   "cell_type": "code",
   "execution_count": 17,
   "metadata": {},
   "outputs": [],
   "source": [
    "# integer\n",
    "\n",
    "x= 10\n",
    "\n",
    "#float\n",
    "\n",
    "y=2.0\n",
    "\n",
    "#string\n",
    "\n",
    "ticker='BTC_USDT'\n",
    "\n",
    "#boolean\n",
    "\n",
    "isPriceHigherThan10k = True"
   ]
  },
  {
   "cell_type": "code",
   "execution_count": 18,
   "metadata": {},
   "outputs": [
    {
     "name": "stdout",
     "output_type": "stream",
     "text": [
      "12.0\n",
      "0.0\n"
     ]
    }
   ],
   "source": [
    "# Operators and Expressions\n",
    "\n",
    "z = x + y\n",
    "\n",
    "print(z)\n",
    "\n",
    "z = x%y\n",
    "print(z)"
   ]
  },
  {
   "cell_type": "markdown",
   "metadata": {},
   "source": [
    "### List and Arrays"
   ]
  },
  {
   "cell_type": "code",
   "execution_count": 77,
   "metadata": {},
   "outputs": [
    {
     "name": "stdout",
     "output_type": "stream",
     "text": [
      "[2.34, 3.51, 1.21, 7.99, 10.01, 'BTC']\n",
      "[ 2.34  3.51  1.21  7.99 10.01]\n",
      "tensor([ 4.3400,  5.5100,  3.2100,  9.9900, 12.0100])\n",
      "pricesList [2.34, 3.51, 1.21, 7.99, 10.01, 'BTC', 5.42]\n",
      "last item :  5.42\n",
      "second last from array :  7.99\n",
      "first three items: [2.34, 3.51, 1.21]\n",
      "last three items: [10.01, 'BTC', 5.42]\n",
      "all but last items: [2.34, 3.51, 1.21, 7.99, 10.01, 'BTC']\n"
     ]
    }
   ],
   "source": [
    "# more flexible and different data types\n",
    "pricesList = [2.34,3.51,1.21,7.99,10.01,'BTC']\n",
    "print(pricesList)\n",
    "\n",
    "# store one type of data and faster for heavy computations\n",
    "pricesArray = np.array([2.34,3.51,1.21,7.99,10.01])\n",
    "print(pricesArray)\n",
    "\n",
    "# for Neural Networks\n",
    "pricesTensor = torch.Tensor(pricesArray)\n",
    "print(pricesTensor)\n",
    "\n",
    "# append to list\n",
    "pricesList.append(5.42)\n",
    "print(f\"pricesList {pricesList}\")\n",
    "\n",
    "# call items from list\n",
    "print('last item : ' ,pricesList[-1])\n",
    "print(\"second last from array : \",pricesArray[-2])\n",
    "print(f'first three items: {pricesList[:3]}')\n",
    "print(f'last three items: {pricesList[-3:]}')\n",
    "print(f'all but last items: {pricesList[:-1]}')"
   ]
  },
  {
   "cell_type": "code",
   "execution_count": 86,
   "metadata": {},
   "outputs": [
    {
     "name": "stdout",
     "output_type": "stream",
     "text": [
      "length of list: 7 \n",
      "length of tensor array: 5\n",
      "prices_array: [[ 2.34  3.51  1.21  7.99 10.01]\n",
      " [ 4.34  6.51  2.21 14.99 21.01]]\n",
      "prices_array shape: (2, 5)\n",
      "prices_array reshaped: [[ 2.34  3.51]\n",
      " [ 1.21  7.99]\n",
      " [10.01  4.34]\n",
      " [ 6.51  2.21]\n",
      " [14.99 21.01]]\n",
      "prices_array flatten: [ 2.34  3.51  1.21  7.99 10.01  4.34  6.51  2.21 14.99 21.01]\n"
     ]
    }
   ],
   "source": [
    "listLength = len(pricesList)\n",
    "arrayLength = len(pricesTensor)  \n",
    "print(f'length of list: {listLength}',f'\\nlength of tensor array: {arrayLength}')\n",
    "\n",
    "## Shape and Reshape\n",
    "\n",
    "openPrices = np.array([2.34,3.51,1.21,7.99,10.01])\n",
    "closePrices = np.array([4.34,6.51,2.21,14.99,21.01])\n",
    "\n",
    "prices_array = np.array([openPrices,closePrices])\n",
    "print(f'prices_array: {prices_array}')\n",
    "print(f'prices_array shape: {prices_array.shape}')\n",
    "print(f'prices_array reshaped: {prices_array.reshape(5,2)}')\n",
    "\n",
    "print(f'prices_array flatten: {prices_array.flatten()}')"
   ]
  },
  {
   "cell_type": "markdown",
   "metadata": {},
   "source": [
    "### Dictionaries"
   ]
  },
  {
   "cell_type": "code",
   "execution_count": 106,
   "metadata": {},
   "outputs": [
    {
     "name": "stdout",
     "output_type": "stream",
     "text": [
      "stock_dict1: {'ticker': 'BTC', 'open': 2.34, 'close': 4.34, 'name': 'Bitcoin', 'current_price': 10.01}\n",
      "stock_dict2: {'ticker': 'XRP', 'open': 0.34, 'close': 1.42, 'name': 'Ripple', 'current_price': 5.01}\n",
      "stock_dict1 ticker: BTC\n",
      "stock_dict1 ticker: 10.01\n",
      "my_stocks: [{'ticker': 'BTC', 'open': 2.34, 'close': 4.34, 'name': 'Bitcoin', 'current_price': 10.01}, {'ticker': 'XRP', 'open': 0.34, 'close': 1.42, 'name': 'Ripple', 'current_price': 5.01}, {'ticker': 'ETH', 'open': 1.34, 'close': 2.42, 'name': 'Ethereum', 'current_price': 7.01}]\n",
      "first stock ticker  BTC\n",
      "my_prices_dict: open-prices [ 2.34  3.51  1.21  7.99 10.01]\n",
      "last open price is :  10.01\n"
     ]
    }
   ],
   "source": [
    "# creating dictionary\n",
    "stock_dict1 = {'ticker':'BTC','open':2.34,'close':4.34,'name':'Bitcoin','current_price':10.01}\n",
    "stock_dict2 = {'ticker':'XRP','open':0.34,'close':1.42,'name':'Ripple','current_price':5.01}\n",
    "stock_dict3 = {'ticker':'ETH','open':1.34,'close':2.42,'name':'Ethereum','current_price':7.01}\n",
    "stock_dict4= {'ticker':'LTS','open':0.34,'close':1.42,'name':'Lite','current_price':5.01}\n",
    "\n",
    "print(f'stock_dict1: {stock_dict1}')\n",
    "print(f'stock_dict2: {stock_dict2}')\n",
    "\n",
    "print(f'stock_dict1 ticker: {stock_dict1[\"ticker\"]}')\n",
    "print(f'stock_dict1 ticker: {stock_dict1[\"current_price\"]}')\n",
    "\n",
    "my_stocks = [stock_dict1,stock_dict2,stock_dict3,stock_dict4]\n",
    "\n",
    "print(f'my_stocks: {my_stocks}')\n",
    "\n",
    "print('first stock ticker ', my_stocks[0]['ticker'])\n",
    "\n",
    "# storing lists in dictionary\n",
    "\n",
    "my_prices_dict = {'open':openPrices,'close':closePrices}\n",
    "\n",
    "print(f'my_prices_dict: open-prices {my_prices_dict[\"open\"]}')\n",
    "print(f'last open price is :  {my_prices_dict[\"open\"][-1]}')\n"
   ]
  },
  {
   "cell_type": "markdown",
   "metadata": {},
   "source": [
    "### If Statements"
   ]
  },
  {
   "cell_type": "code",
   "execution_count": 104,
   "metadata": {},
   "outputs": [
    {
     "name": "stdout",
     "output_type": "stream",
     "text": [
      "True\n",
      "AAPL is in tech_stocks\n",
      "AAPL and GOOG are in tech_stocks\n",
      "XRP is not in tech_stocks\n",
      "XRP or BTC are not in tech_stocks\n",
      "XRP and PAAL are not in tech_stocks\n",
      "buy_signal: HODL\n"
     ]
    }
   ],
   "source": [
    "i = 1\n",
    "if(i==1):\n",
    "    print('True')\n",
    "else:\n",
    "    print('i is : ', i)\n",
    "\n",
    "# and, or, in, not\n",
    "    \n",
    "tech_stocks = ['AAPL','GOOG','FB','MSFT','TSLA','AMZN',\"BTC\"]\n",
    "\n",
    "if('AAPL' in tech_stocks):\n",
    "        print('AAPL is in tech_stocks')\n",
    "\n",
    "if('AAPL' in tech_stocks and 'GOOG' in tech_stocks):\n",
    "        print('AAPL and GOOG are in tech_stocks')\n",
    "\n",
    "if('XRP' not in tech_stocks):\n",
    "        print('XRP is not in tech_stocks')\n",
    "\n",
    "if ('XRP' not in tech_stocks or 'BTC' not in tech_stocks):\n",
    "        print('XRP or BTC are not in tech_stocks')\n",
    "\n",
    "\n",
    "if ('XRP' not in tech_stocks and 'PAAL' not in tech_stocks):\n",
    "        print('XRP and PAAL are not in tech_stocks')\n",
    "\n",
    "# tenary operator\n",
    "        \n",
    "buy_signal = 'BUY' if my_stocks[0][\"open\"] < my_stocks[0][\"close\"] and  my_stocks[0][\"current_price\"] < my_stocks[0][\"close\"]  else 'HODL'\n",
    "print(f'buy_signal: {buy_signal}')\n",
    "\n"
   ]
  },
  {
   "cell_type": "markdown",
   "metadata": {},
   "source": [
    "### Loops"
   ]
  },
  {
   "cell_type": "code",
   "execution_count": null,
   "metadata": {},
   "outputs": [],
   "source": [
    "# for loop\n",
    "for stock in my_stocks:\n",
    "    print(stock['ticker'],stock['current_price'])\n",
    "\n",
    "total_value = 0\n",
    "for stock in my_stocks:\n",
    "    total_value += stock['current_price']\n",
    "\n",
    "print(f'total_value: {total_value}')\n",
    "\n",
    "# while loop\n",
    "\n",
    "# if not defined i will set whatever the loop sets it\n",
    "# and wont run again\n",
    "while(i < 3):\n",
    "    print(i)\n",
    "    i += 1\n",
    "    time.sleep(1)\n",
    "\n",
    "\n",
    "stock_names=[]\n",
    "j = 0\n",
    "while(j < len(my_stocks)):\n",
    "    stock_names.append(my_stocks[j]['name'])\n",
    "    j += 1\n",
    "\n",
    "print(\"stock_names : \",stock_names)\n",
    "\n",
    "\n",
    "k = 0\n",
    "while(k < len(my_stocks)):\n",
    "    if(my_stocks[k]['ticker'] == 'ETH'):\n",
    "        print('ETH is in the list with the index of : ',k)\n",
    "        break\n",
    "    k += 1\n",
    "\n",
    "print(my_stocks[2])\n",
    "\n",
    "# get the stocks with the current price 6 > \n",
    "prices_above_6 = []\n",
    "for stock in my_stocks:\n",
    "    print('looking through the stock prices')\n",
    "    if(stock['current_price'] <= 6):\n",
    "        continue\n",
    "    prices_above_6.append(stock['current_price'])\n",
    "\n",
    "print(f'prices_above_6: {prices_above_6}')"
   ]
  },
  {
   "cell_type": "markdown",
   "metadata": {},
   "source": [
    "# Functions"
   ]
  },
  {
   "cell_type": "code",
   "execution_count": 144,
   "metadata": {},
   "outputs": [
    {
     "name": "stdout",
     "output_type": "stream",
     "text": [
      "added: 5\n"
     ]
    }
   ],
   "source": [
    "def add_prices(price1,price2):\n",
    "    return price1 + price2\n",
    "\n",
    "print(f'added: {add_prices(2,3)}')"
   ]
  },
  {
   "cell_type": "markdown",
   "metadata": {},
   "source": [
    "# Classes"
   ]
  },
  {
   "cell_type": "code",
   "execution_count": 147,
   "metadata": {},
   "outputs": [],
   "source": [
    "# create class\n",
    "\n",
    "class StockTracker():\n",
    "    def __init__(self,name,price):\n",
    "        self.name = name\n",
    "        self.price = price\n",
    "\n",
    "    def _random_generator(self):\n",
    "        return random()\n",
    "    \n",
    "    def multiply_by_random(self,number:int):\n",
    "        return number * self._random_generator()\n",
    "    \n",
    "\n",
    "# class instance\n",
    "    \n",
    "stock_btc = StockTracker('BTC',10000)\n",
    "stock_eth = StockTracker('ETH',500)\n",
    "\n",
    "        "
   ]
  },
  {
   "cell_type": "code",
   "execution_count": 150,
   "metadata": {},
   "outputs": [
    {
     "name": "stdout",
     "output_type": "stream",
     "text": [
      "stock_btc: 6.056704596138067\n",
      "stock_eth name: ETH\n"
     ]
    }
   ],
   "source": [
    "print(f'stock_btc: {stock_btc.multiply_by_random(10)}')\n",
    "print(f'stock_eth name: {stock_eth.name}')"
   ]
  }
 ],
 "metadata": {
  "kernelspec": {
   "display_name": "MLTRADE",
   "language": "python",
   "name": "python3"
  },
  "language_info": {
   "codemirror_mode": {
    "name": "ipython",
    "version": 3
   },
   "file_extension": ".py",
   "mimetype": "text/x-python",
   "name": "python",
   "nbconvert_exporter": "python",
   "pygments_lexer": "ipython3",
   "version": "3.9.18"
  }
 },
 "nbformat": 4,
 "nbformat_minor": 2
}
