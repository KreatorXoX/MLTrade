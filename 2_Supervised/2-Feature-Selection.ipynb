{
 "cells": [
  {
   "cell_type": "markdown",
   "metadata": {},
   "source": [
    "### Imports"
   ]
  },
  {
   "cell_type": "code",
   "execution_count": 1,
   "metadata": {},
   "outputs": [
    {
     "name": "stderr",
     "output_type": "stream",
     "text": [
      "c:\\Users\\Kreator\\anaconda3\\envs\\MLTRADE\\lib\\site-packages\\xgboost\\compat.py:36: FutureWarning: pandas.Int64Index is deprecated and will be removed from pandas in a future version. Use pandas.Index with the appropriate dtype instead.\n",
      "  from pandas import MultiIndex, Int64Index\n"
     ]
    }
   ],
   "source": [
    "import pandas as pd\n",
    "\n",
    "import numpy as np\n",
    "\n",
    "from sklearn.model_selection import RandomizedSearchCV, cross_val_score,train_test_split,RepeatedStratifiedKFold\n",
    "import sklearn.mixture as mix\n",
    "from sklearn.metrics import precision_score\n",
    "\n",
    "from xgboost import XGBClassifier\n",
    "\n",
    "import matplotlib.pyplot as plt\n",
    "\n",
    "import warnings\n",
    "warnings.filterwarnings(action='ignore',category=DeprecationWarning)\n",
    "warnings.filterwarnings(action='ignore',category=FutureWarning)"
   ]
  },
  {
   "cell_type": "markdown",
   "metadata": {},
   "source": [
    "### Data Extraction and Specify The Target"
   ]
  },
  {
   "cell_type": "code",
   "execution_count": 21,
   "metadata": {},
   "outputs": [],
   "source": [
    "# Read data from file 'data/btc-usd.csv'\n",
    "\n",
    "df=pd.read_csv('data/btc-usd.csv')\n",
    "df.set_index('Date',inplace=True)"
   ]
  },
  {
   "cell_type": "code",
   "execution_count": 22,
   "metadata": {},
   "outputs": [],
   "source": [
    "# Set Target\n",
    "df['target']=0\n",
    "df.loc[df['returns'].shift(-1)>df['returns'],'target']=1"
   ]
  },
  {
   "cell_type": "code",
   "execution_count": 23,
   "metadata": {},
   "outputs": [
    {
     "data": {
      "text/html": [
       "<div>\n",
       "<style scoped>\n",
       "    .dataframe tbody tr th:only-of-type {\n",
       "        vertical-align: middle;\n",
       "    }\n",
       "\n",
       "    .dataframe tbody tr th {\n",
       "        vertical-align: top;\n",
       "    }\n",
       "\n",
       "    .dataframe thead th {\n",
       "        text-align: right;\n",
       "    }\n",
       "</style>\n",
       "<table border=\"1\" class=\"dataframe\">\n",
       "  <thead>\n",
       "    <tr style=\"text-align: right;\">\n",
       "      <th></th>\n",
       "      <th>Open</th>\n",
       "      <th>High</th>\n",
       "      <th>Low</th>\n",
       "      <th>Close</th>\n",
       "      <th>Adj Close</th>\n",
       "      <th>Volume</th>\n",
       "      <th>returns</th>\n",
       "      <th>range</th>\n",
       "      <th>exp_rets_cum</th>\n",
       "      <th>rsi</th>\n",
       "      <th>...</th>\n",
       "      <th>ma_20_T6</th>\n",
       "      <th>ma_50_T6</th>\n",
       "      <th>ma_100_T6</th>\n",
       "      <th>returns_T7</th>\n",
       "      <th>range_T7</th>\n",
       "      <th>rsi_T7</th>\n",
       "      <th>ma_20_T7</th>\n",
       "      <th>ma_50_T7</th>\n",
       "      <th>ma_100_T7</th>\n",
       "      <th>target</th>\n",
       "    </tr>\n",
       "    <tr>\n",
       "      <th>Date</th>\n",
       "      <th></th>\n",
       "      <th></th>\n",
       "      <th></th>\n",
       "      <th></th>\n",
       "      <th></th>\n",
       "      <th></th>\n",
       "      <th></th>\n",
       "      <th></th>\n",
       "      <th></th>\n",
       "      <th></th>\n",
       "      <th></th>\n",
       "      <th></th>\n",
       "      <th></th>\n",
       "      <th></th>\n",
       "      <th></th>\n",
       "      <th></th>\n",
       "      <th></th>\n",
       "      <th></th>\n",
       "      <th></th>\n",
       "      <th></th>\n",
       "      <th></th>\n",
       "    </tr>\n",
       "  </thead>\n",
       "  <tbody>\n",
       "    <tr>\n",
       "      <th>2022-05-27</th>\n",
       "      <td>29251.140625</td>\n",
       "      <td>29346.943359</td>\n",
       "      <td>28326.613281</td>\n",
       "      <td>28627.574219</td>\n",
       "      <td>28627.574219</td>\n",
       "      <td>-0.005230</td>\n",
       "      <td>-0.021856</td>\n",
       "      <td>0.036020</td>\n",
       "      <td>27.675606</td>\n",
       "      <td>36.240181</td>\n",
       "      <td>...</td>\n",
       "      <td>32305.261523</td>\n",
       "      <td>37627.045391</td>\n",
       "      <td>37627.045391</td>\n",
       "      <td>-0.036735</td>\n",
       "      <td>0.064993</td>\n",
       "      <td>35.393691</td>\n",
       "      <td>32757.104883</td>\n",
       "      <td>37964.033750</td>\n",
       "      <td>37964.033750</td>\n",
       "      <td>1</td>\n",
       "    </tr>\n",
       "    <tr>\n",
       "      <th>2022-05-28</th>\n",
       "      <td>28622.625000</td>\n",
       "      <td>28814.900391</td>\n",
       "      <td>28554.566406</td>\n",
       "      <td>28814.900391</td>\n",
       "      <td>28814.900391</td>\n",
       "      <td>-0.029042</td>\n",
       "      <td>0.006544</td>\n",
       "      <td>0.009117</td>\n",
       "      <td>27.863246</td>\n",
       "      <td>37.238957</td>\n",
       "      <td>...</td>\n",
       "      <td>31894.981250</td>\n",
       "      <td>37316.140859</td>\n",
       "      <td>37316.140859</td>\n",
       "      <td>0.007927</td>\n",
       "      <td>0.019343</td>\n",
       "      <td>36.380962</td>\n",
       "      <td>32305.261523</td>\n",
       "      <td>37627.045391</td>\n",
       "      <td>37627.045391</td>\n",
       "      <td>1</td>\n",
       "    </tr>\n",
       "    <tr>\n",
       "      <th>2022-05-29</th>\n",
       "      <td>29019.867188</td>\n",
       "      <td>29498.009766</td>\n",
       "      <td>28841.107422</td>\n",
       "      <td>29445.957031</td>\n",
       "      <td>29445.957031</td>\n",
       "      <td>-0.490594</td>\n",
       "      <td>0.021900</td>\n",
       "      <td>0.022777</td>\n",
       "      <td>28.495361</td>\n",
       "      <td>40.613855</td>\n",
       "      <td>...</td>\n",
       "      <td>31462.404102</td>\n",
       "      <td>36969.047734</td>\n",
       "      <td>36969.047734</td>\n",
       "      <td>0.030290</td>\n",
       "      <td>0.039306</td>\n",
       "      <td>40.172711</td>\n",
       "      <td>31894.981250</td>\n",
       "      <td>37316.140859</td>\n",
       "      <td>37316.140859</td>\n",
       "      <td>1</td>\n",
       "    </tr>\n",
       "    <tr>\n",
       "      <th>2022-05-30</th>\n",
       "      <td>29443.365234</td>\n",
       "      <td>31949.630859</td>\n",
       "      <td>29303.572266</td>\n",
       "      <td>31726.390625</td>\n",
       "      <td>31726.390625</td>\n",
       "      <td>1.170788</td>\n",
       "      <td>0.077445</td>\n",
       "      <td>0.090298</td>\n",
       "      <td>30.779621</td>\n",
       "      <td>50.890862</td>\n",
       "      <td>...</td>\n",
       "      <td>30960.264844</td>\n",
       "      <td>36629.705938</td>\n",
       "      <td>36629.705938</td>\n",
       "      <td>-0.040391</td>\n",
       "      <td>0.055738</td>\n",
       "      <td>36.917221</td>\n",
       "      <td>31462.404102</td>\n",
       "      <td>36969.047734</td>\n",
       "      <td>36969.047734</td>\n",
       "      <td>0</td>\n",
       "    </tr>\n",
       "    <tr>\n",
       "      <th>2022-05-31</th>\n",
       "      <td>31723.865234</td>\n",
       "      <td>32249.863281</td>\n",
       "      <td>31286.154297</td>\n",
       "      <td>31792.310547</td>\n",
       "      <td>31792.310547</td>\n",
       "      <td>-0.146132</td>\n",
       "      <td>0.002078</td>\n",
       "      <td>0.030803</td>\n",
       "      <td>30.845652</td>\n",
       "      <td>51.154006</td>\n",
       "      <td>...</td>\n",
       "      <td>30609.625879</td>\n",
       "      <td>36309.833320</td>\n",
       "      <td>36309.833320</td>\n",
       "      <td>0.019130</td>\n",
       "      <td>0.034313</td>\n",
       "      <td>39.323912</td>\n",
       "      <td>30960.264844</td>\n",
       "      <td>36629.705938</td>\n",
       "      <td>36629.705938</td>\n",
       "      <td>0</td>\n",
       "    </tr>\n",
       "  </tbody>\n",
       "</table>\n",
       "<p>5 rows × 64 columns</p>\n",
       "</div>"
      ],
      "text/plain": [
       "                    Open          High           Low         Close  \\\n",
       "Date                                                                 \n",
       "2022-05-27  29251.140625  29346.943359  28326.613281  28627.574219   \n",
       "2022-05-28  28622.625000  28814.900391  28554.566406  28814.900391   \n",
       "2022-05-29  29019.867188  29498.009766  28841.107422  29445.957031   \n",
       "2022-05-30  29443.365234  31949.630859  29303.572266  31726.390625   \n",
       "2022-05-31  31723.865234  32249.863281  31286.154297  31792.310547   \n",
       "\n",
       "               Adj Close    Volume   returns     range  exp_rets_cum  \\\n",
       "Date                                                                   \n",
       "2022-05-27  28627.574219 -0.005230 -0.021856  0.036020     27.675606   \n",
       "2022-05-28  28814.900391 -0.029042  0.006544  0.009117     27.863246   \n",
       "2022-05-29  29445.957031 -0.490594  0.021900  0.022777     28.495361   \n",
       "2022-05-30  31726.390625  1.170788  0.077445  0.090298     30.779621   \n",
       "2022-05-31  31792.310547 -0.146132  0.002078  0.030803     30.845652   \n",
       "\n",
       "                  rsi  ...      ma_20_T6      ma_50_T6     ma_100_T6  \\\n",
       "Date                   ...                                             \n",
       "2022-05-27  36.240181  ...  32305.261523  37627.045391  37627.045391   \n",
       "2022-05-28  37.238957  ...  31894.981250  37316.140859  37316.140859   \n",
       "2022-05-29  40.613855  ...  31462.404102  36969.047734  36969.047734   \n",
       "2022-05-30  50.890862  ...  30960.264844  36629.705938  36629.705938   \n",
       "2022-05-31  51.154006  ...  30609.625879  36309.833320  36309.833320   \n",
       "\n",
       "            returns_T7  range_T7     rsi_T7      ma_20_T7      ma_50_T7  \\\n",
       "Date                                                                      \n",
       "2022-05-27   -0.036735  0.064993  35.393691  32757.104883  37964.033750   \n",
       "2022-05-28    0.007927  0.019343  36.380962  32305.261523  37627.045391   \n",
       "2022-05-29    0.030290  0.039306  40.172711  31894.981250  37316.140859   \n",
       "2022-05-30   -0.040391  0.055738  36.917221  31462.404102  36969.047734   \n",
       "2022-05-31    0.019130  0.034313  39.323912  30960.264844  36629.705938   \n",
       "\n",
       "               ma_100_T7  target  \n",
       "Date                              \n",
       "2022-05-27  37964.033750       1  \n",
       "2022-05-28  37627.045391       1  \n",
       "2022-05-29  37316.140859       1  \n",
       "2022-05-30  36969.047734       0  \n",
       "2022-05-31  36629.705938       0  \n",
       "\n",
       "[5 rows x 64 columns]"
      ]
     },
     "execution_count": 23,
     "metadata": {},
     "output_type": "execute_result"
    }
   ],
   "source": [
    "df.tail()"
   ]
  },
  {
   "cell_type": "markdown",
   "metadata": {},
   "source": [
    "### Train Test Split"
   ]
  },
  {
   "cell_type": "code",
   "execution_count": 24,
   "metadata": {},
   "outputs": [],
   "source": [
    "# Remove unwanted columns\n",
    "df_tts=df.copy()\n",
    "df_tts.drop(columns=['Close',\"Adj Close\",\"Open\",\"High\",\"Low\",'exp_rets_cum','returns'],inplace=True)"
   ]
  },
  {
   "cell_type": "code",
   "execution_count": 25,
   "metadata": {},
   "outputs": [],
   "source": [
    "# Split target and data to use learning\n",
    "X = df_tts.iloc[:,:-1]\n",
    "y = df_tts.iloc[:,-1]"
   ]
  },
  {
   "cell_type": "code",
   "execution_count": 26,
   "metadata": {},
   "outputs": [
    {
     "name": "stdout",
     "output_type": "stream",
     "text": [
      "Shape of X_train (1536, 56)\n",
      "Shape of X_test (384, 56)\n",
      "Shape of y_train (1536,)\n",
      "Shape of y_test (384,)\n"
     ]
    }
   ],
   "source": [
    "# tts\n",
    "X_train,X_test,y_train,y_test=train_test_split(X,y,test_size=0.2,random_state=42)\n",
    "\n",
    "print(f\"Shape of X_train {X_train.shape}\")\n",
    "print(f\"Shape of X_test {X_test.shape}\")\n",
    "print(f\"Shape of y_train {y_train.shape}\")\n",
    "print(f\"Shape of y_test {y_test.shape}\")"
   ]
  },
  {
   "cell_type": "markdown",
   "metadata": {},
   "source": [
    "### Initial Model"
   ]
  },
  {
   "cell_type": "code",
   "execution_count": 27,
   "metadata": {},
   "outputs": [],
   "source": [
    "# Select type of model to optimize for\n",
    "is_binary= True # if the outcome is win lose or draw this should be False\n",
    "is_optimise_for_precision=True\n",
    "\n",
    "if is_binary:\n",
    "  objective='binary:logistic' \n",
    "  eval_metric_list=['error','logloss']\n",
    "else:\n",
    "  objective='multi:softmax'  \n",
    "  eval_metric_list=['merror','mlogloss']\n",
    "\n",
    "\n",
    "if is_binary and is_optimise_for_precision:\n",
    "  eval_metric='aucpr'\n",
    "  scoring='precision'\n",
    "  eval_metric_list.append(eval_metric)\n",
    "elif is_binary and not is_optimise_for_precision:\n",
    "  eval_metric='auc'\n",
    "  scoring='f1'\n",
    "  eval_metric_list.append(eval_metric)\n",
    "else:\n",
    "  scoring='accuracy'"
   ]
  },
  {
   "cell_type": "code",
   "execution_count": 28,
   "metadata": {},
   "outputs": [],
   "source": [
    "# Build initial classifier\n",
    "classifier_v0=XGBClassifier(\n",
    "    objective=objective,\n",
    "    booster='gbtree',\n",
    "    eval_metric=eval_metric_list,\n",
    "    subsample=0.8,\n",
    "    colsample_bytree=1,\n",
    "    random_state=1,\n",
    "    use_label_encoder=False,\n",
    "    \n",
    ")"
   ]
  },
  {
   "cell_type": "code",
   "execution_count": 29,
   "metadata": {},
   "outputs": [
    {
     "name": "stdout",
     "output_type": "stream",
     "text": [
      "<<< Recommended Params >>>\n",
      "\n",
      "eta => 0.5\n",
      "ne => 12\n",
      "lr => 0.05\n",
      "md => 7\n",
      "gm => 0.5\n"
     ]
    }
   ],
   "source": [
    "# Find hyperparameters\n",
    "params={\n",
    "    \"gamma\":[0.1,0.2,0.5,1,1.5,2,3,6,12,20],\n",
    "    \"learning_rate\":[0.01,0.02,0.03,0.05,0.1,0.2,0.3,0.5,0.7,0.8],\n",
    "    \"max_depth\":[1,2,3,4,5,6,7,9,12],\n",
    "    \"eta\":[0.1,0.3,0.5,0.7,0.8],\n",
    "    \"n_estimators\":[12,25,30,50],\n",
    "}\n",
    "\n",
    "params_search = RandomizedSearchCV(estimator=classifier_v0,param_distributions=params,scoring=scoring)\n",
    "\n",
    "# Random search for hyperparams\n",
    "best_model = params_search.fit(X_train,y_train)\n",
    "hyperparams = best_model.best_params_\n",
    "eta=hyperparams['eta']\n",
    "ne=hyperparams['n_estimators']\n",
    "lr=hyperparams['learning_rate']\n",
    "md=hyperparams['max_depth']\n",
    "gm=hyperparams['gamma']\n",
    "\n",
    "print(\"<<< Recommended Params >>>\\n\")\n",
    "print(f\"eta => {eta}\")\n",
    "print(f\"ne => {ne}\")\n",
    "print(f\"lr => {lr}\")\n",
    "print(f\"md => {md}\")\n",
    "print(f\"gm => {gm}\")"
   ]
  },
  {
   "cell_type": "code",
   "execution_count": 30,
   "metadata": {},
   "outputs": [],
   "source": [
    "# Build version 1 classifier\n",
    "classifier_v1=XGBClassifier(\n",
    "    objective=objective,\n",
    "    booster='gbtree',\n",
    "    eval_metric=eval_metric_list,\n",
    "    subsample=0.8,\n",
    "    colsample_bytree=1,\n",
    "    random_state=1,\n",
    "    use_label_encoder=False,\n",
    "    eta=eta,\n",
    "    n_estimators=ne,\n",
    "    learning_rate=lr,\n",
    "    max_depth=md,\n",
    "    gamma=gm    \n",
    ")"
   ]
  },
  {
   "cell_type": "code",
   "execution_count": 31,
   "metadata": {},
   "outputs": [
    {
     "data": {
      "text/plain": [
       "XGBClassifier(base_score=0.5, booster='gbtree', colsample_bylevel=1,\n",
       "              colsample_bynode=1, colsample_bytree=1, enable_categorical=False,\n",
       "              eta=0.5, eval_metric=['error', 'logloss', 'aucpr'], gamma=0.5,\n",
       "              gpu_id=-1, importance_type=None, interaction_constraints='',\n",
       "              learning_rate=0.05, max_delta_step=0, max_depth=7,\n",
       "              min_child_weight=1, missing=nan, monotone_constraints='()',\n",
       "              n_estimators=12, n_jobs=16, num_parallel_tree=1, predictor='auto',\n",
       "              random_state=1, reg_alpha=0, reg_lambda=1, scale_pos_weight=1,\n",
       "              subsample=0.8, tree_method='exact', use_label_encoder=False,\n",
       "              validate_parameters=1, ...)"
      ]
     },
     "execution_count": 31,
     "metadata": {},
     "output_type": "execute_result"
    }
   ],
   "source": [
    "# Fit model\n",
    "eval_set=[(X_train,y_train)]\n",
    "classifier_v1.fit(X_train,y_train,eval_metric=eval_metric_list,eval_set=eval_set,verbose=False)"
   ]
  },
  {
   "cell_type": "code",
   "execution_count": 32,
   "metadata": {},
   "outputs": [
    {
     "name": "stdout",
     "output_type": "stream",
     "text": [
      "Train Preds: [0 0 0 0 0]\n"
     ]
    }
   ],
   "source": [
    "# Quick Overview\n",
    "# Get predictions for training data\n",
    "\n",
    "train_yhat=classifier_v1.predict(X_train)\n",
    "print(f\"Train Preds: {train_yhat[:5]}\")"
   ]
  },
  {
   "cell_type": "code",
   "execution_count": 33,
   "metadata": {},
   "outputs": [],
   "source": [
    "# Set K-Fold Cross Validation\n",
    "cv= RepeatedStratifiedKFold(n_splits=5,n_repeats=3,random_state=1)"
   ]
  },
  {
   "cell_type": "code",
   "execution_count": 34,
   "metadata": {},
   "outputs": [],
   "source": [
    "# Training Results\n",
    "train_results=cross_val_score(classifier_v1,X_train,y_train,cv=cv,scoring=scoring,n_jobs=-1)"
   ]
  },
  {
   "cell_type": "code",
   "execution_count": 35,
   "metadata": {},
   "outputs": [
    {
     "name": "stdout",
     "output_type": "stream",
     "text": [
      "Avg. Acc K-Fold: 0.678\n",
      "Std K-Fold: 0.026\n",
      "Precision Score 0: 0.841\n",
      "Precision Score 1: 0.886\n"
     ]
    }
   ],
   "source": [
    "# Review Results\n",
    "print(f\"Avg. Acc K-Fold: {round(train_results.mean(),3)}\")\n",
    "print(f\"Std K-Fold: {round(train_results.std(),3)}\")\n",
    "print(f\"Precision Score 0: {round(precision_score(y_train,train_yhat,average=None)[0],3)}\")\n",
    "print(f\"Precision Score 1: {round(precision_score(y_train,train_yhat,average=None)[1],3)}\")\n"
   ]
  },
  {
   "cell_type": "code",
   "execution_count": 36,
   "metadata": {},
   "outputs": [
    {
     "data": {
      "image/png": "[encoded data removed]",
      "text/plain": [
       "<Figure size 2500x500 with 1 Axes>"
      ]
     },
     "metadata": {},
     "output_type": "display_data"
    }
   ],
   "source": [
    "# Plot Feature Importance\n",
    "\n",
    "fig=plt.figure(figsize=(25,5))\n",
    "\n",
    "imp_labels = X_train.columns\n",
    "imp_features = classifier_v1.feature_importances_\n",
    "\n",
    "plt.bar(imp_labels,imp_features)\n",
    "plt.xticks(rotation=90) \n",
    "plt.show()"
   ]
  },
  {
   "cell_type": "code",
   "execution_count": 37,
   "metadata": {},
   "outputs": [],
   "source": [
    "# Narrow down features - pick the best ones\n",
    "\n",
    "mean_feature_importance = imp_features.mean()\n",
    "i=0\n",
    "\n",
    "recommended_features_scores=[]\n",
    "recommended_features_labels=[]\n",
    "\n",
    "for feature in imp_features:\n",
    "  if feature > mean_feature_importance:\n",
    "    recommended_features_scores.append(feature)\n",
    "    recommended_features_labels.append(imp_labels[i])\n",
    "  i+=1"
   ]
  },
  {
   "cell_type": "code",
   "execution_count": 38,
   "metadata": {},
   "outputs": [
    {
     "data": {
      "text/plain": [
       "<BarContainer object of 28 artists>"
      ]
     },
     "execution_count": 38,
     "metadata": {},
     "output_type": "execute_result"
    },
    {
     "data": {
      "image/png": "[encoded data removed]",
      "text/plain": [
       "<Figure size 2500x500 with 1 Axes>"
      ]
     },
     "metadata": {},
     "output_type": "display_data"
    }
   ],
   "source": [
    "# Plot recommended_features\n",
    "fig=plt.figure(figsize=(25,5))\n",
    "plt.xticks(rotation=90) \n",
    "plt.bar(recommended_features_labels,recommended_features_scores)"
   ]
  }
 ],
 "metadata": {
  "kernelspec": {
   "display_name": "MLTRADE",
   "language": "python",
   "name": "python3"
  },
  "language_info": {
   "codemirror_mode": {
    "name": "ipython",
    "version": 3
   },
   "file_extension": ".py",
   "mimetype": "text/x-python",
   "name": "python",
   "nbconvert_exporter": "python",
   "pygments_lexer": "ipython3",
   "version": "3.9.18"
  }
 },
 "nbformat": 4,
 "nbformat_minor": 2
}
